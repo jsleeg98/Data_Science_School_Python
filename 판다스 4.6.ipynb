{
 "metadata": {
  "language_info": {
   "codemirror_mode": {
    "name": "ipython",
    "version": 3
   },
   "file_extension": ".py",
   "mimetype": "text/x-python",
   "name": "python",
   "nbconvert_exporter": "python",
   "pygments_lexer": "ipython3",
   "version": "3.7.9-final"
  },
  "orig_nbformat": 2,
  "kernelspec": {
   "name": "python3",
   "display_name": "Python 3",
   "language": "python"
  }
 },
 "nbformat": 4,
 "nbformat_minor": 2,
 "cells": [
  {
   "source": [
    "# 4.6 데이터프레임 합성\n",
    "## 연습 문제 4.6.1\n",
    "두 개의 데이터프레임을 만들고 merge 명령으로 합친다. 단 데이터프레임은 다음 조건을 만족해야 한다.\n",
    "\n",
    "1. 각각 5 x 5 이상의 크기를 가진다.\n",
    "\n",
    "2. 공통 열을 하나 이상 가진다. 다만 공통 열의 이름은 서로 다르다.\n",
    "\n"
   ],
   "cell_type": "markdown",
   "metadata": {}
  },
  {
   "cell_type": "code",
   "execution_count": 5,
   "metadata": {},
   "outputs": [
    {
     "output_type": "execute_result",
     "data": {
      "text/plain": [
       "   이름  국어  영어  수학  과학  성명  체육  음악  사회  물리\n",
       "0  짱구  60  70  60  70  짱구  60  70  80  90\n",
       "1  철수  90  80  90  80  철수  90  80  50  90\n",
       "2  훈이  80  60  80  60  훈이  80  60  60  80\n",
       "3  유리  85  70  85  70  유리  85  70  70  80\n",
       "4  맹구  70  50  70  50  맹구  70  50  40  70"
      ],
      "text/html": "<div>\n<style scoped>\n    .dataframe tbody tr th:only-of-type {\n        vertical-align: middle;\n    }\n\n    .dataframe tbody tr th {\n        vertical-align: top;\n    }\n\n    .dataframe thead th {\n        text-align: right;\n    }\n</style>\n<table border=\"1\" class=\"dataframe\">\n  <thead>\n    <tr style=\"text-align: right;\">\n      <th></th>\n      <th>이름</th>\n      <th>국어</th>\n      <th>영어</th>\n      <th>수학</th>\n      <th>과학</th>\n      <th>성명</th>\n      <th>체육</th>\n      <th>음악</th>\n      <th>사회</th>\n      <th>물리</th>\n    </tr>\n  </thead>\n  <tbody>\n    <tr>\n      <th>0</th>\n      <td>짱구</td>\n      <td>60</td>\n      <td>70</td>\n      <td>60</td>\n      <td>70</td>\n      <td>짱구</td>\n      <td>60</td>\n      <td>70</td>\n      <td>80</td>\n      <td>90</td>\n    </tr>\n    <tr>\n      <th>1</th>\n      <td>철수</td>\n      <td>90</td>\n      <td>80</td>\n      <td>90</td>\n      <td>80</td>\n      <td>철수</td>\n      <td>90</td>\n      <td>80</td>\n      <td>50</td>\n      <td>90</td>\n    </tr>\n    <tr>\n      <th>2</th>\n      <td>훈이</td>\n      <td>80</td>\n      <td>60</td>\n      <td>80</td>\n      <td>60</td>\n      <td>훈이</td>\n      <td>80</td>\n      <td>60</td>\n      <td>60</td>\n      <td>80</td>\n    </tr>\n    <tr>\n      <th>3</th>\n      <td>유리</td>\n      <td>85</td>\n      <td>70</td>\n      <td>85</td>\n      <td>70</td>\n      <td>유리</td>\n      <td>85</td>\n      <td>70</td>\n      <td>70</td>\n      <td>80</td>\n    </tr>\n    <tr>\n      <th>4</th>\n      <td>맹구</td>\n      <td>70</td>\n      <td>50</td>\n      <td>70</td>\n      <td>50</td>\n      <td>맹구</td>\n      <td>70</td>\n      <td>50</td>\n      <td>40</td>\n      <td>70</td>\n    </tr>\n  </tbody>\n</table>\n</div>"
     },
     "metadata": {},
     "execution_count": 5
    }
   ],
   "source": [
    "import pandas as pd\n",
    "\n",
    "df1 = pd.DataFrame({\n",
    "    '이름' : ['짱구', '철수', '훈이', '유리', '맹구'],\n",
    "    '국어' : [60, 90, 80, 85, 70],\n",
    "    '영어' : [70, 80, 60, 70, 50],\n",
    "    '수학' : [60, 90, 80, 85, 70],\n",
    "    '과학' : [70, 80, 60, 70, 50]\n",
    "})\n",
    "\n",
    "df2 = pd.DataFrame({\n",
    "    '성명' : ['짱구', '철수', '훈이', '유리', '맹구'],\n",
    "    '체육' : [60, 90, 80, 85, 70],\n",
    "    '음악' : [70, 80, 60, 70, 50],\n",
    "    '사회' : [80, 50, 60, 70, 40],\n",
    "    '물리' : [90, 90, 80, 80, 70]\n",
    "})\n",
    "\n",
    "# merge 명령으로 합침\n",
    "pd.merge(df1, df2, left_on = '이름', right_on = '성명')\n"
   ]
  },
  {
   "source": [
    "## 연습문제 4.6.2\n",
    "어느 회사의 전반기(1월 ~ 6월) 실적을 나타내는 데이터프레임과 후반기(7월 ~ 12월) 실적을 나타내는 데이터프레임을 만든 뒤 합친다. 실적 정보는 “매출”, “비용”, “이익” 으로 이루어진다. (이익 = 매출 - 비용).\n",
    "\n",
    "또한 1년간의 총 실적을 마지막 행으로 덧붙인다."
   ],
   "cell_type": "markdown",
   "metadata": {}
  },
  {
   "cell_type": "code",
   "execution_count": 77,
   "metadata": {},
   "outputs": [
    {
     "output_type": "execute_result",
     "data": {
      "text/plain": [
       "       매출   비용    이익\n",
       "1월    100   10    90\n",
       "2월    200   20   180\n",
       "3월    300   30   270\n",
       "4월    400   40   360\n",
       "5월    500   50   450\n",
       "6월    600   60   540\n",
       "7월    700   70   630\n",
       "8월    800   80   720\n",
       "9월    900   90   810\n",
       "10월  1000  100   900\n",
       "11월  1100  110   990\n",
       "12월  1200  120  1080\n",
       "총실적  7800  780  7020"
      ],
      "text/html": "<div>\n<style scoped>\n    .dataframe tbody tr th:only-of-type {\n        vertical-align: middle;\n    }\n\n    .dataframe tbody tr th {\n        vertical-align: top;\n    }\n\n    .dataframe thead th {\n        text-align: right;\n    }\n</style>\n<table border=\"1\" class=\"dataframe\">\n  <thead>\n    <tr style=\"text-align: right;\">\n      <th></th>\n      <th>매출</th>\n      <th>비용</th>\n      <th>이익</th>\n    </tr>\n  </thead>\n  <tbody>\n    <tr>\n      <th>1월</th>\n      <td>100</td>\n      <td>10</td>\n      <td>90</td>\n    </tr>\n    <tr>\n      <th>2월</th>\n      <td>200</td>\n      <td>20</td>\n      <td>180</td>\n    </tr>\n    <tr>\n      <th>3월</th>\n      <td>300</td>\n      <td>30</td>\n      <td>270</td>\n    </tr>\n    <tr>\n      <th>4월</th>\n      <td>400</td>\n      <td>40</td>\n      <td>360</td>\n    </tr>\n    <tr>\n      <th>5월</th>\n      <td>500</td>\n      <td>50</td>\n      <td>450</td>\n    </tr>\n    <tr>\n      <th>6월</th>\n      <td>600</td>\n      <td>60</td>\n      <td>540</td>\n    </tr>\n    <tr>\n      <th>7월</th>\n      <td>700</td>\n      <td>70</td>\n      <td>630</td>\n    </tr>\n    <tr>\n      <th>8월</th>\n      <td>800</td>\n      <td>80</td>\n      <td>720</td>\n    </tr>\n    <tr>\n      <th>9월</th>\n      <td>900</td>\n      <td>90</td>\n      <td>810</td>\n    </tr>\n    <tr>\n      <th>10월</th>\n      <td>1000</td>\n      <td>100</td>\n      <td>900</td>\n    </tr>\n    <tr>\n      <th>11월</th>\n      <td>1100</td>\n      <td>110</td>\n      <td>990</td>\n    </tr>\n    <tr>\n      <th>12월</th>\n      <td>1200</td>\n      <td>120</td>\n      <td>1080</td>\n    </tr>\n    <tr>\n      <th>총실적</th>\n      <td>7800</td>\n      <td>780</td>\n      <td>7020</td>\n    </tr>\n  </tbody>\n</table>\n</div>"
     },
     "metadata": {},
     "execution_count": 77
    }
   ],
   "source": [
    "import pandas as pd\n",
    "\n",
    "df_3 = pd.DataFrame({\n",
    "    '매출' : [100, 200, 300, 400, 500, 600],\n",
    "    '비용' : [10, 20, 30, 40, 50, 60]},\n",
    "    index = ['1월','2월','3월','4월','5월','6월'],\n",
    "    columns = ['매출', '비용']\n",
    ")\n",
    "\n",
    "# 이익 열 생성하기\n",
    "profit_1 = df_3.apply(lambda x : x['매출'] - x['비용'], axis = 1)\n",
    "df_3['이익'] = profit_1\n",
    "\n",
    "df_4 = pd.DataFrame({\n",
    "    '매출' : [700, 800, 900, 1000, 1100, 1200],\n",
    "    '비용' : [70, 80, 90, 100, 110, 120]},\n",
    "    index = ['7월', '8월', '9월', '10월', '11월', '12월'],\n",
    "    columns = ['매출', '비용']\n",
    ")\n",
    "\n",
    "# 이익 열 생성하기\n",
    "profit_2 = df_4.apply(lambda x : x['매출'] - x['비용'], axis = 1)\n",
    "df_4['이익'] = profit_2\n",
    "\n",
    "df_5 = pd.concat([df_3, df_4])\n",
    "\n",
    "# 총 실적 계산\n",
    "total = df_5.apply(lambda x: sum(x))\n",
    "\n",
    "df_total = pd.DataFrame(total, index = ['매출', '비용', '이익'], columns=['총실적'])\n",
    "df_6 = df_total.stack(0)\n",
    "df_7 = df_6.unstack(0)\n",
    "\n",
    "# 마지막행에 총 실적 추가\n",
    "pd.concat([df_5, df_7])"
   ]
  }
 ]
}