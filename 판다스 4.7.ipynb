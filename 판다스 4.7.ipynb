{
 "metadata": {
  "language_info": {
   "codemirror_mode": {
    "name": "ipython",
    "version": 3
   },
   "file_extension": ".py",
   "mimetype": "text/x-python",
   "name": "python",
   "nbconvert_exporter": "python",
   "pygments_lexer": "ipython3",
   "version": "3.7.9-final"
  },
  "orig_nbformat": 2,
  "kernelspec": {
   "name": "python3",
   "display_name": "Python 3",
   "language": "python"
  }
 },
 "nbformat": 4,
 "nbformat_minor": 2,
 "cells": [
  {
   "source": [
    "# 4.7 피봇테이블과 그룹 분석\n",
    "\n",
    "## 연습문제 4.7.1\n",
    "key1의 값을 기준으로 data1의 값을 분류하여 합계를 구한 결과를 시리즈가 아닌 데이터프레임으로 구한다.\n",
    "\n"
   ],
   "cell_type": "markdown",
   "metadata": {}
  },
  {
   "cell_type": "code",
   "execution_count": 32,
   "metadata": {},
   "outputs": [
    {
     "output_type": "execute_result",
     "data": {
      "text/plain": [
       "     key1 key2  data1  data2\n",
       "key1                        \n",
       "A       A  two      5     50\n",
       "B       B  two      4     40"
      ],
      "text/html": "<div>\n<style scoped>\n    .dataframe tbody tr th:only-of-type {\n        vertical-align: middle;\n    }\n\n    .dataframe tbody tr th {\n        vertical-align: top;\n    }\n\n    .dataframe thead th {\n        text-align: right;\n    }\n</style>\n<table border=\"1\" class=\"dataframe\">\n  <thead>\n    <tr style=\"text-align: right;\">\n      <th></th>\n      <th>key1</th>\n      <th>key2</th>\n      <th>data1</th>\n      <th>data2</th>\n    </tr>\n    <tr>\n      <th>key1</th>\n      <th></th>\n      <th></th>\n      <th></th>\n      <th></th>\n    </tr>\n  </thead>\n  <tbody>\n    <tr>\n      <th>A</th>\n      <td>A</td>\n      <td>two</td>\n      <td>5</td>\n      <td>50</td>\n    </tr>\n    <tr>\n      <th>B</th>\n      <td>B</td>\n      <td>two</td>\n      <td>4</td>\n      <td>40</td>\n    </tr>\n  </tbody>\n</table>\n</div>"
     },
     "metadata": {},
     "execution_count": 32
    }
   ],
   "source": [
    "import pandas as pd\n",
    "\n",
    "df2 = pd.DataFrame({\n",
    "    'key1': ['A', 'A', 'B', 'B', 'A'],\n",
    "    'key2': ['one', 'two', 'one', 'two', 'one'],\n",
    "    'data1': [1, 2, 3, 4, 5],\n",
    "    'data2': [10, 20, 30, 40, 50]\n",
    "})\n",
    "\n",
    "# key1 값을 기준으로 data1의 값을 문류하여 합계를 구한 데이터프레임 결과\n",
    "# 정답 1\n",
    "df2.groupby(df2.key1).sum()[['data1']]\n",
    "# 정답 2\n",
    "df2.groupby(df2.key1).apply(lambda x : x.max())"
   ]
  },
  {
   "source": [
    "## 연습 문제 4.7.2\n",
    "붓꽃(iris) 데이터에서 붓꽃 종(species)별로 꽃잎길이(sepal_length), 꽃잎폭(sepal_width) 등의 평균을 구하라. 만약 붓꽃 종(species)이 표시되지 않았을 때 이 수치들을 이용하여 붓꽃 종을 찾아낼 수 있을지 생각하라.\n",
    "\n"
   ],
   "cell_type": "markdown",
   "metadata": {}
  },
  {
   "cell_type": "code",
   "execution_count": 44,
   "metadata": {},
   "outputs": [
    {
     "output_type": "execute_result",
     "data": {
      "text/plain": [
       "            sepal_length  sepal_width  petal_length  petal_width\n",
       "species                                                         \n",
       "setosa             5.006        3.428         1.462        0.246\n",
       "versicolor         5.936        2.770         4.260        1.326\n",
       "virginica          6.588        2.974         5.552        2.026"
      ],
      "text/html": "<div>\n<style scoped>\n    .dataframe tbody tr th:only-of-type {\n        vertical-align: middle;\n    }\n\n    .dataframe tbody tr th {\n        vertical-align: top;\n    }\n\n    .dataframe thead th {\n        text-align: right;\n    }\n</style>\n<table border=\"1\" class=\"dataframe\">\n  <thead>\n    <tr style=\"text-align: right;\">\n      <th></th>\n      <th>sepal_length</th>\n      <th>sepal_width</th>\n      <th>petal_length</th>\n      <th>petal_width</th>\n    </tr>\n    <tr>\n      <th>species</th>\n      <th></th>\n      <th></th>\n      <th></th>\n      <th></th>\n    </tr>\n  </thead>\n  <tbody>\n    <tr>\n      <th>setosa</th>\n      <td>5.006</td>\n      <td>3.428</td>\n      <td>1.462</td>\n      <td>0.246</td>\n    </tr>\n    <tr>\n      <th>versicolor</th>\n      <td>5.936</td>\n      <td>2.770</td>\n      <td>4.260</td>\n      <td>1.326</td>\n    </tr>\n    <tr>\n      <th>virginica</th>\n      <td>6.588</td>\n      <td>2.974</td>\n      <td>5.552</td>\n      <td>2.026</td>\n    </tr>\n  </tbody>\n</table>\n</div>"
     },
     "metadata": {},
     "execution_count": 44
    }
   ],
   "source": [
    "# 종별로 각 열의 평균 구하기\n",
    "iris.groupby(iris.species).mean()\n",
    "\n",
    "# 평균 값에 중복이 없기 때문에 종을 찾아낼 수 있을 것 같다."
   ]
  },
  {
   "source": [
    "## 연습문제 4.7.3\n",
    "1. 팁의 비율이 요일과 점심/저녁 여부, 인원수에 어떤 영향을 받는지 살펴본다.\n",
    "\n",
    "2. 어떤 요인이 가장 크게 작용하는지 판단할 수 있는 방법이 있는가?"
   ],
   "cell_type": "markdown",
   "metadata": {}
  },
  {
   "cell_type": "code",
   "execution_count": 107,
   "metadata": {},
   "outputs": [
    {
     "output_type": "stream",
     "name": "stdout",
     "text": [
      "       tip_pct\nday           \nThur  0.161276\nFri   0.169913\nSat   0.153152\nSun   0.166897\n         tip_pct\ntime            \nLunch   0.164128\nDinner  0.159518\n       tip_pct\nsize          \n1     0.217292\n2     0.165719\n3     0.152157\n4     0.145949\n5     0.141495\n6     0.156229\ntip_pct    0.007366\ndtype: float64\ntip_pct    0.00326\ndtype: float64\ntip_pct    0.027826\ndtype: float64\n"
     ]
    }
   ],
   "source": [
    "import seaborn as sns\n",
    "\n",
    "tips = sns.load_dataset('tips')\n",
    "\n",
    "tips['tip_pct'] = tips['tip'] / tips['total_bill']\n",
    "\n",
    "\n",
    "\n",
    "# 각 요인에 따른 tip_pct 출력\n",
    "print(tips.pivot_table('tip_pct','day'))\n",
    "print(tips.pivot_table('tip_pct','time'))\n",
    "print(tips.pivot_table('tip_pct','size'))\n",
    "\n",
    "# 각 요인에 따른 tip_pct 표준 편차 출력\n",
    "print(tips.pivot_table('tip_pct','day').std())\n",
    "print(tips.pivot_table('tip_pct','time').std())\n",
    "print(tips.pivot_table('tip_pct','size').std())\n",
    "\n",
    "# 표준편차가 클수록 값이 넓게 퍼져있어 요인에 따라 영향이 크다고 생각해서 표준편차를 비교해보았다.\n",
    "# 그 결과 size 의 표준편차가 가장 커서 인원수가 팁의 비율에 큰 영향을 준다고 생각한다."
   ]
  },
  {
   "source": [
    "## 연습문제 4.7.4\n",
    "\n",
    "타이타닉 승객 데이터를 이용하여 다음 분석을 실시하라. 데이터는 다음과 같이 받을 수 있다.\n",
    "\n",
    "titanic = sns.load_dataset(\"titanic\")\n",
    "\n",
    "1. qcut 명령으로 세 개의 나이 그룹을 만든다.\n",
    "\n",
    "2. 성별, 선실, 나이 그룹에 의한 생존율을 데이터프레임으로 계산한다. 행에는 성별 및 나이 그룹에 대한 다중 인덱스를 사용하고 열에는 선실 인덱스를 사용한다. 생존률은 해당 그룹의 생존 인원수를 전체 인원수로 나눈 값이다.\n",
    "\n",
    "3. 성별 및 선실에 의한 생존율을 피봇 데이터 형태로 만든다."
   ],
   "cell_type": "markdown",
   "metadata": {}
  },
  {
   "cell_type": "code",
   "execution_count": 196,
   "metadata": {},
   "outputs": [
    {
     "output_type": "execute_result",
     "data": {
      "text/plain": [
       "class      First    Second     Third\n",
       "sex                                 \n",
       "female  0.968085  0.921053  0.500000\n",
       "male    0.368852  0.157407  0.135447"
      ],
      "text/html": "<div>\n<style scoped>\n    .dataframe tbody tr th:only-of-type {\n        vertical-align: middle;\n    }\n\n    .dataframe tbody tr th {\n        vertical-align: top;\n    }\n\n    .dataframe thead th {\n        text-align: right;\n    }\n</style>\n<table border=\"1\" class=\"dataframe\">\n  <thead>\n    <tr style=\"text-align: right;\">\n      <th>class</th>\n      <th>First</th>\n      <th>Second</th>\n      <th>Third</th>\n    </tr>\n    <tr>\n      <th>sex</th>\n      <th></th>\n      <th></th>\n      <th></th>\n    </tr>\n  </thead>\n  <tbody>\n    <tr>\n      <th>female</th>\n      <td>0.968085</td>\n      <td>0.921053</td>\n      <td>0.500000</td>\n    </tr>\n    <tr>\n      <th>male</th>\n      <td>0.368852</td>\n      <td>0.157407</td>\n      <td>0.135447</td>\n    </tr>\n  </tbody>\n</table>\n</div>"
     },
     "metadata": {},
     "execution_count": 196
    }
   ],
   "source": [
    "import seaborn as sns\n",
    "\n",
    "titanic = sns.load_dataset('titanic')\n",
    "\n",
    "# 1번 문제\n",
    "# qcut 명렬으로 세 개의 나이 그룹 만들기\n",
    "# 세 개의 나이 그룹으로 나누는 함수 정의\n",
    "def q3cut(s):\n",
    "    return pd.qcut(s, 3, labels = ['노년', '중년', '소년']).astype(str)\n",
    "# 함수를 사용하여 나이를 기준으로 세 개의 나이 그룹으로 나누기\n",
    "titanic['age_group'] = titanic['age'].transform(q3cut)\n",
    "\n",
    "# 2번 문제\n",
    "# 생존률을 계산하는 함수에 s에 들어오는 인수가 시리즈라는 것에 유의해야한다.\n",
    "def survive_rate(s):\n",
    "    count = 0\n",
    "    for i in s:\n",
    "        if i == 1:\n",
    "            count += 1\n",
    "    return count / s.count()\n",
    "\n",
    "# 열 인덱스를 class로 해주기 위해서는 행 인덱스로 설정한 후 unstack()으로 열 인덱스로 변경해준다.\n",
    "titanic.groupby(['sex','age_group','class'])[['survived']].agg(survive_rate).unstack()\n",
    "\n",
    "# 3번 문제\n",
    "# 성별 및 선실에 의한 생존률을 피봇 데이터 형태로 만들기\n",
    "titanic.pivot_table('survived','sex','class')\n"
   ]
  }
 ]
}