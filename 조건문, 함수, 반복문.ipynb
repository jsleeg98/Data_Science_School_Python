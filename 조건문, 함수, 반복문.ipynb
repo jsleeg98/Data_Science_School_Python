{
 "cells": [
  {
   "cell_type": "code",
   "execution_count": 4,
   "metadata": {},
   "outputs": [
    {
     "name": "stdout",
     "output_type": "stream",
     "text": [
      "a는 5보다 크다.\n"
     ]
    }
   ],
   "source": [
    "# 조건문 if ~ else\n",
    "a = 10\n",
    "if a > 5:\n",
    "    print(\"a는 5보다 크다.\")\n",
    "else:\n",
    "    print(\"a는 5보다 작다.\")"
   ]
  },
  {
   "cell_type": "code",
   "execution_count": 7,
   "metadata": {},
   "outputs": [
    {
     "name": "stdout",
     "output_type": "stream",
     "text": [
      "b는 5보다 작다.\n"
     ]
    }
   ],
   "source": [
    "# 조건문 if ~ elif ~ else\n",
    "b = 10\n",
    "if b > 20:\n",
    "    print(\"b는 20보다 크다.\")\n",
    "elif b < 20 & b > 5:\n",
    "    print(\"b는 5보다 크고 20보다 작다.\")\n",
    "else:\n",
    "    print(\"b는 5보다 작다.\")"
   ]
  },
  {
   "cell_type": "code",
   "execution_count": 14,
   "metadata": {},
   "outputs": [
    {
     "name": "stdout",
     "output_type": "stream",
     "text": [
      "10\n"
     ]
    }
   ],
   "source": [
    "# 함수의 정의와 사용\n",
    "def multi(x, y):\n",
    "    result = x * y\n",
    "    return result\n",
    "print(multi(2,5))"
   ]
  },
  {
   "cell_type": "code",
   "execution_count": 16,
   "metadata": {},
   "outputs": [
    {
     "name": "stdout",
     "output_type": "stream",
     "text": [
      "4\n"
     ]
    }
   ],
   "source": [
    "# 람다함수\n",
    "f = lambda x : 2 * x\n",
    "print(f(2))"
   ]
  },
  {
   "cell_type": "code",
   "execution_count": 18,
   "metadata": {},
   "outputs": [
    {
     "name": "stdout",
     "output_type": "stream",
     "text": [
      "4\n"
     ]
    }
   ],
   "source": [
    "# 함수 안에서 전역변수를 선언하기\n",
    "def make_global(x):\n",
    "    global z\n",
    "    z = x + 2\n",
    "    return x\n",
    "make_global(2)\n",
    "print(z)"
   ]
  },
  {
   "cell_type": "code",
   "execution_count": 19,
   "metadata": {},
   "outputs": [
    {
     "name": "stdout",
     "output_type": "stream",
     "text": [
      "0\n",
      "1\n",
      "2\n",
      "3\n",
      "4\n"
     ]
    }
   ],
   "source": [
    "# 반복문\n",
    "for i in range(5):\n",
    "    print(i)"
   ]
  }
 ],
 "metadata": {
  "kernelspec": {
   "display_name": "Python 3",
   "language": "python",
   "name": "python3"
  },
  "language_info": {
   "codemirror_mode": {
    "name": "ipython",
    "version": 3
   },
   "file_extension": ".py",
   "mimetype": "text/x-python",
   "name": "python",
   "nbconvert_exporter": "python",
   "pygments_lexer": "ipython3",
   "version": "3.7.9"
  }
 },
 "nbformat": 4,
 "nbformat_minor": 4
}
