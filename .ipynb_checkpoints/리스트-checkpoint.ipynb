{
 "cells": [
  {
   "cell_type": "code",
   "execution_count": 10,
   "metadata": {},
   "outputs": [],
   "source": [
    "# list 구성은 정수, 실수, 문자, 리스트, 딕셔너리로 다양하게 구성 가능\n",
    "\n",
    "li = [1, 3.33, 'str', [1, 2, 3, 4], { 'a' : 10, 'b' : 20, 'c' : 30}]"
   ]
  },
  {
   "cell_type": "code",
   "execution_count": 12,
   "metadata": {},
   "outputs": [
    {
     "data": {
      "text/plain": [
       "4"
      ]
     },
     "execution_count": 12,
     "metadata": {},
     "output_type": "execute_result"
    }
   ],
   "source": [
    "# list의 자료의 개수 반환\n",
    "\n",
    "li = [1, 2, 3, 4]\n",
    "len(li)"
   ]
  },
  {
   "cell_type": "code",
   "execution_count": 14,
   "metadata": {},
   "outputs": [],
   "source": [
    "# list의 생성\n",
    "li = [1, 2, 3, 4]"
   ]
  },
  {
   "cell_type": "code",
   "execution_count": 17,
   "metadata": {},
   "outputs": [],
   "source": [
    "# 수열리스트 생성\n",
    "a = list(range(10))\n",
    "b = list(range(2, 9))\n",
    "c = list(range(1, 9, 2))"
   ]
  },
  {
   "cell_type": "code",
   "execution_count": 20,
   "metadata": {},
   "outputs": [],
   "source": [
    "# .append 메소드\n",
    "li = [1, 2, 3, 4]\n",
    "li.append(5)"
   ]
  },
  {
   "cell_type": "code",
   "execution_count": 23,
   "metadata": {},
   "outputs": [
    {
     "data": {
      "text/plain": [
       "[1, 2, 4]"
      ]
     },
     "execution_count": 23,
     "metadata": {},
     "output_type": "execute_result"
    }
   ],
   "source": [
    "# .del 메소드\n",
    "li = [1, 2, 3, 4]\n",
    "del li[2]\n",
    "li"
   ]
  },
  {
   "cell_type": "code",
   "execution_count": 25,
   "metadata": {},
   "outputs": [
    {
     "name": "stdout",
     "output_type": "stream",
     "text": [
      "3\n"
     ]
    }
   ],
   "source": [
    "# list 인덱스 사용\n",
    "li = [1, 2, 3, 4]\n",
    "print(li[2])"
   ]
  },
  {
   "cell_type": "code",
   "execution_count": 32,
   "metadata": {},
   "outputs": [
    {
     "name": "stdout",
     "output_type": "stream",
     "text": [
      "[1, 2]\n",
      "[1, 2]\n",
      "[3, 4]\n",
      "[1, 2]\n"
     ]
    }
   ],
   "source": [
    "# list 슬라이싱 사용\n",
    "li = [1, 2, 3, 4]\n",
    "print(li[:2])\n",
    "print(li[0:2])\n",
    "\n",
    "#음수 인덱스는 맨 끝 -1 부터 시작\n",
    "print(li[-2:]) \n",
    "print(li[-4:-2])"
   ]
  },
  {
   "cell_type": "code",
   "execution_count": 40,
   "metadata": {},
   "outputs": [
    {
     "name": "stdout",
     "output_type": "stream",
     "text": [
      "1\n",
      "2\n",
      "3\n",
      "4\n",
      "0 : 1\n",
      "1 : 2\n",
      "2 : 3\n",
      "3 : 4\n"
     ]
    }
   ],
   "source": [
    "li = [1, 2, 3, 4]\n",
    "# list 사용 반복문\n",
    "for i in range(len(li)):\n",
    "    print(li[i])\n",
    "\n",
    "# enumerate 사용 반복문\n",
    "for index, value in enumerate(li):\n",
    "    print(\"%d : %d\" %(index, value))"
   ]
  },
  {
   "cell_type": "code",
   "execution_count": 42,
   "metadata": {},
   "outputs": [
    {
     "data": {
      "text/plain": [
       "[(1, 5), (2, 6), (3, 7), (4, 8)]"
      ]
     },
     "execution_count": 42,
     "metadata": {},
     "output_type": "execute_result"
    }
   ],
   "source": [
    "a = [1, 2, 3, 4]\n",
    "b = [5, 6, 7, 8]\n",
    "\n",
    "# zip으로 리스트 만들기\n",
    "c = list(zip(a, b))"
   ]
  }
 ],
 "metadata": {
  "kernelspec": {
   "display_name": "Python 3",
   "language": "python",
   "name": "python3"
  },
  "language_info": {
   "codemirror_mode": {
    "name": "ipython",
    "version": 3
   },
   "file_extension": ".py",
   "mimetype": "text/x-python",
   "name": "python",
   "nbconvert_exporter": "python",
   "pygments_lexer": "ipython3",
   "version": "3.7.9"
  }
 },
 "nbformat": 4,
 "nbformat_minor": 4
}
