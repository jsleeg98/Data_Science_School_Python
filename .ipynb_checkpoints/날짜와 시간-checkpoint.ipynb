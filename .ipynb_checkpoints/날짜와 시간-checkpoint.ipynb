{
 "cells": [
  {
   "cell_type": "code",
   "execution_count": 4,
   "metadata": {},
   "outputs": [
    {
     "data": {
      "text/plain": [
       "211024"
      ]
     },
     "execution_count": 4,
     "metadata": {},
     "output_type": "execute_result"
    }
   ],
   "source": [
    "# datetime 패키지\n",
    "import datetime as dt\n",
    "\n",
    "# datatime 클래스\n",
    "x = dt.datetime.now()\n",
    "\n",
    "# 연도\n",
    "x.year\n",
    "\n",
    "# 월\n",
    "x.month\n",
    "\n",
    "# 일\n",
    "x.day\n",
    "\n",
    "# 시\n",
    "x.hour\n",
    "\n",
    "# 분\n",
    "x.minute\n",
    "\n",
    "# 초\n",
    "x.second\n",
    "\n",
    "# 마이크로초\n",
    "x.microsecond"
   ]
  },
  {
   "cell_type": "code",
   "execution_count": 17,
   "metadata": {},
   "outputs": [
    {
     "data": {
      "text/plain": [
       "datetime.time(21, 8, 52, 751181)"
      ]
     },
     "execution_count": 17,
     "metadata": {},
     "output_type": "execute_result"
    }
   ],
   "source": [
    "# datetime 패키지\n",
    "import datetime as dt\n",
    "\n",
    "# datatime 클래스\n",
    "x = dt.datetime.now()\n",
    "\n",
    "# weekday 요일 반환\n",
    "x.weekday()\n",
    "\n",
    "# strftime 문자열 반환\n",
    "x.strftime(\"%Y %m %d %H %M %S %A %B\")\n",
    "\n",
    "# strptime 문자열로부터 날짜 시간 정보를 datetime 클래스 객체 반환\n",
    "dt.datetime.strptime(\"2020-12-28 21:00\", \"%Y-%m-%d %H:%M\")\n",
    "\n",
    "# date 날짜 정보만 가지는 date 클래스 객체 반환\n",
    "x.date()\n",
    "\n",
    "# 시간 정보만 가지는 time 클래스 객체 반환\n",
    "x.time()"
   ]
  },
  {
   "cell_type": "code",
   "execution_count": 25,
   "metadata": {},
   "outputs": [
    {
     "data": {
      "text/plain": [
       "datetime.datetime(2020, 5, 4, 0, 0)"
      ]
     },
     "execution_count": 25,
     "metadata": {},
     "output_type": "execute_result"
    }
   ],
   "source": [
    "# dateutil parse 함수 선택적 임포트\n",
    "from dateutil.parser import parse\n",
    "\n",
    "# parse 메소드로 datetime 클래스 객체 만들기\n",
    "parse('2020-12-28')\n",
    "parse('5/4/2020')"
   ]
  },
  {
   "cell_type": "code",
   "execution_count": 36,
   "metadata": {},
   "outputs": [
    {
     "data": {
      "text/plain": [
       "0"
      ]
     },
     "execution_count": 36,
     "metadata": {},
     "output_type": "execute_result"
    }
   ],
   "source": [
    "# datetime 패키지\n",
    "import datetime as dt\n",
    "\n",
    "# datetime 클래스 생성\n",
    "dt1 = dt.datetime(2020, 12, 21, 12)\n",
    "dt2 = dt.datetime(2021, 2, 28, 13)\n",
    "td = dt2 - dt1\n",
    "\n",
    "# timedelta 클래스\n",
    "# days 일수\n",
    "td.days\n",
    "\n",
    "# seconds 초\n",
    "td.seconds\n",
    "\n",
    "# microseconds\n",
    "td.microseconds"
   ]
  },
  {
   "cell_type": "code",
   "execution_count": 41,
   "metadata": {},
   "outputs": [],
   "source": [
    "# datetime 패키지\n",
    "import datetime as dt\n",
    "\n",
    "# datetime 클래스 생성\n",
    "dt1 = dt.datetime(2020, 12, 21, 12)\n",
    "dt2 = dt.datetime(2021, 2, 28, 13)\n",
    "td = dt2 - dt1\n",
    "\n",
    "# timedelta 클래스\n",
    "# total_seconds 메서드\n",
    "td.total_seconds()\n",
    "\n",
    "# timedelta 클래스 객체 생성\n",
    "# 100일, 3600초\n",
    "d = dt.timedelta(days = 100, seconds = 3600)\n",
    "result = dt1 + d"
   ]
  },
  {
   "cell_type": "code",
   "execution_count": 46,
   "metadata": {},
   "outputs": [],
   "source": [
    "# dateutil 패키지의 relativedelta 선택적 임포트\n",
    "from dateutil.relativedelta import relativedelta\n",
    "import datetime as dt\n",
    "\n",
    "# datetime 클래스 객체 생성\n",
    "t0 = dt.datetime(2020, 12, 28)\n",
    "\n",
    "# relativedelta 클래스 객체 성성\n",
    "d = relativedelta(months = 6)\n",
    "\n",
    "# 월 연산 가능\n",
    "result = t0 + d"
   ]
  },
  {
   "cell_type": "code",
   "execution_count": 47,
   "metadata": {},
   "outputs": [
    {
     "name": "stdout",
     "output_type": "stream",
     "text": [
      "1\n",
      "2\n"
     ]
    }
   ],
   "source": [
    "# time 패키지 임포트\n",
    "import time\n",
    "\n",
    "print(1)\n",
    "\n",
    "# 10초 기다리고 다음 코드 실행\n",
    "time.sleep(10)\n",
    "print(2)"
   ]
  }
 ],
 "metadata": {
  "kernelspec": {
   "display_name": "Python 3",
   "language": "python",
   "name": "python3"
  },
  "language_info": {
   "codemirror_mode": {
    "name": "ipython",
    "version": 3
   },
   "file_extension": ".py",
   "mimetype": "text/x-python",
   "name": "python",
   "nbconvert_exporter": "python",
   "pygments_lexer": "ipython3",
   "version": "3.7.9"
  }
 },
 "nbformat": 4,
 "nbformat_minor": 4
}
