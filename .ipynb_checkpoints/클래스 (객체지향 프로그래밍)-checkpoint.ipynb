{
 "cells": [
  {
   "cell_type": "code",
   "execution_count": 6,
   "metadata": {},
   "outputs": [
    {
     "name": "stdout",
     "output_type": "stream",
     "text": [
      "2\n",
      "4\n",
      "4.0\n"
     ]
    }
   ],
   "source": [
    "# 클래스의 생성\n",
    "class triangle(object):\n",
    "    # 생성자\n",
    "    def __init__(self, b, h):\n",
    "        self.b = b;\n",
    "        self.h = h;\n",
    "        \n",
    "    \n",
    "    #넓이 메소드\n",
    "    def area(self):\n",
    "        return self.b * self.h / 2\n",
    "\n",
    "# 객체 생성\n",
    "tri = triangle(2,4)\n",
    "\n",
    "#밑변 호출\n",
    "print(tri.b)\n",
    "#높이 호출\n",
    "print(tri.h)\n",
    "#넓이 메소드 호출\n",
    "print(tri.area())"
   ]
  },
  {
   "cell_type": "code",
   "execution_count": 20,
   "metadata": {},
   "outputs": [],
   "source": [
    "# 클래스의 상속\n",
    "\n",
    "#부모 클래스 생성\n",
    "class Person(object):\n",
    "    def __init__(self):\n",
    "        self.age = 23\n",
    "    def aging(self):\n",
    "        self.age += 1\n",
    "\n",
    "#자식 클래스 생성\n",
    "class Programmer(Person):\n",
    "    def __init__(self):\n",
    "        super(Programmer, self).__init__()\n",
    "        self.job = 'programmer'\n",
    "        self.coding_expertise = 0\n",
    "    def up_coding_expertise(self):\n",
    "        self.coding_expertise += 1\n",
    "\n",
    "#자식 클래스 생성\n",
    "class Investor(Person):\n",
    "    def __init__(self):\n",
    "        super(Investor, self).__init__()\n",
    "        self.job = 'investor'\n",
    "        investing_expertise = 0\n",
    "    def up_investing_expertise(self):\n",
    "        self.investring_expertise += 1"
   ]
  },
  {
   "cell_type": "code",
   "execution_count": 22,
   "metadata": {},
   "outputs": [],
   "source": [
    "#메서드 오버라이딩\n",
    "\n",
    "#부모 클래스 생성\n",
    "class Person(object):\n",
    "    def __init__(self):\n",
    "        self.age = 23\n",
    "    def aging(self):\n",
    "        self.age += 1\n",
    "    def intro(self):\n",
    "        return 'I am a person'\n",
    "\n",
    "#자식 클래스 생성\n",
    "class Programmer(Person):\n",
    "    def __init__(self):\n",
    "        super(Programmer, self).__init__()\n",
    "        self.job = 'programmer'\n",
    "        self.coding_expertise = 0\n",
    "    def up_coding_expertise(self):\n",
    "        self.coding_expertise += 1\n",
    "    \n",
    "    #메서드 오버라이딩\n",
    "    def intro(self):\n",
    "        return 'I am a programmer'\n",
    "\n",
    "#자식 클래스 생성\n",
    "class Investor(Person):\n",
    "    def __init__(self):\n",
    "        super(Investor, self).__init__()\n",
    "        self.job = 'investor'\n",
    "        investing_expertise = 0\n",
    "    def up_investing_expertise(self):\n",
    "        self.investring_expertise += 1\n",
    "        \n",
    "    #메서드 오버라이딩\n",
    "    def intro(self):\n",
    "        return 'I am a investor'"
   ]
  }
 ],
 "metadata": {
  "kernelspec": {
   "display_name": "Python 3",
   "language": "python",
   "name": "python3"
  },
  "language_info": {
   "codemirror_mode": {
    "name": "ipython",
    "version": 3
   },
   "file_extension": ".py",
   "mimetype": "text/x-python",
   "name": "python",
   "nbconvert_exporter": "python",
   "pygments_lexer": "ipython3",
   "version": "3.7.9"
  }
 },
 "nbformat": 4,
 "nbformat_minor": 4
}
