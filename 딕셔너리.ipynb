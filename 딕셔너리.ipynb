{
 "cells": [
  {
   "cell_type": "code",
   "execution_count": 3,
   "metadata": {},
   "outputs": [],
   "source": [
    "# 딕셔너리 생성\n",
    "dic = {'korean' : 20, 'math' : 30, 'english' : 40}"
   ]
  },
  {
   "cell_type": "code",
   "execution_count": 9,
   "metadata": {},
   "outputs": [],
   "source": [
    "# 딕셔너리의 구성요소\n",
    "dic = {1 : 20, 2.31 : 3.12, 'math' : 'korean', 'a' : [1, 2, 3, 4], 'b' : {0 : 0, 1 : 10}}"
   ]
  },
  {
   "cell_type": "code",
   "execution_count": 11,
   "metadata": {},
   "outputs": [
    {
     "data": {
      "text/plain": [
       "2"
      ]
     },
     "execution_count": 11,
     "metadata": {},
     "output_type": "execute_result"
    }
   ],
   "source": [
    "# 딕셔너리 자료의 개수를 반환\n",
    "dic = { 'a' : 1, 'b' : 2}\n",
    "len(dic)"
   ]
  },
  {
   "cell_type": "code",
   "execution_count": 13,
   "metadata": {},
   "outputs": [],
   "source": [
    "# 딕셔너리 자료의 추가\n",
    "dic = { 'a' : 1, 'b' : 2}\n",
    "\n",
    "# 없는 key 값과 value 값을 입력 시 추가된다.\n",
    "dic['c'] = 3 "
   ]
  },
  {
   "cell_type": "code",
   "execution_count": 15,
   "metadata": {},
   "outputs": [],
   "source": [
    "# del 함수\n",
    "dic = { 'a' : 1, 'b' : 2}\n",
    "\n",
    "del dic['b']"
   ]
  },
  {
   "cell_type": "code",
   "execution_count": 17,
   "metadata": {},
   "outputs": [
    {
     "data": {
      "text/plain": [
       "True"
      ]
     },
     "execution_count": 17,
     "metadata": {},
     "output_type": "execute_result"
    }
   ],
   "source": [
    "# in 함수\n",
    "dic = { 'a' : 1, 'b' : 2}\n",
    "\n",
    "'a' in dic"
   ]
  },
  {
   "cell_type": "code",
   "execution_count": 21,
   "metadata": {},
   "outputs": [
    {
     "name": "stdout",
     "output_type": "stream",
     "text": [
      "a\n",
      "b\n"
     ]
    }
   ],
   "source": [
    "# .keys() 메소드\n",
    "dic = { 'a' : 1, 'b' : 2}\n",
    "\n",
    "dic.keys()\n",
    "\n",
    "# 반복문 응용\n",
    "for key in dic.keys():\n",
    "    print(key)"
   ]
  },
  {
   "cell_type": "code",
   "execution_count": 23,
   "metadata": {},
   "outputs": [
    {
     "name": "stdout",
     "output_type": "stream",
     "text": [
      "1\n",
      "2\n"
     ]
    }
   ],
   "source": [
    "# .values() 메소드\n",
    "dic = { 'a' : 1, 'b' : 2}\n",
    "\n",
    "dic.values()\n",
    "\n",
    "# 반복문 응용\n",
    "for value in dic.values():\n",
    "    print(value)"
   ]
  },
  {
   "cell_type": "code",
   "execution_count": 25,
   "metadata": {},
   "outputs": [
    {
     "name": "stdout",
     "output_type": "stream",
     "text": [
      "a : 1\n",
      "b : 2\n"
     ]
    }
   ],
   "source": [
    "# .items() 메소드\n",
    "dic = { 'a' : 1, 'b' : 2}\n",
    "\n",
    "dic.items()\n",
    "\n",
    "# 반복문 응용\n",
    "for key, value in dic.items():\n",
    "    print('%s : %d' %(key, value))"
   ]
  }
 ],
 "metadata": {
  "kernelspec": {
   "display_name": "Python 3",
   "language": "python",
   "name": "python3"
  },
  "language_info": {
   "codemirror_mode": {
    "name": "ipython",
    "version": 3
   },
   "file_extension": ".py",
   "mimetype": "text/x-python",
   "name": "python",
   "nbconvert_exporter": "python",
   "pygments_lexer": "ipython3",
   "version": "3.7.9"
  }
 },
 "nbformat": 4,
 "nbformat_minor": 4
}
