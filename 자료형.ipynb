{
 "cells": [
  {
   "cell_type": "code",
   "execution_count": 10,
   "metadata": {},
   "outputs": [
    {
     "data": {
      "text/plain": [
       "function"
      ]
     },
     "execution_count": 10,
     "metadata": {},
     "output_type": "execute_result"
    }
   ],
   "source": [
    "# 파이썬 자료형\n",
    "#None 자료형\n",
    "type(None)\n",
    "\n",
    "# bool\n",
    "type(True)\n",
    "\n",
    "# int\n",
    "type(2)\n",
    "\n",
    "# float\n",
    "type(1.2)\n",
    "\n",
    "# complex\n",
    "type(3 + 2j)\n",
    "\n",
    "# str\n",
    "type('hello')\n",
    "\n",
    "# tuple\n",
    "type((1,2))\n",
    "\n",
    "# list\n",
    "type([1,2,3])\n",
    "\n",
    "# dic\n",
    "type({'A' : 2, 'B' : 3})\n",
    "\n",
    "# function\n",
    "def f():\n",
    "    return 1\n",
    "\n",
    "type(f)"
   ]
  },
  {
   "cell_type": "code",
   "execution_count": 12,
   "metadata": {},
   "outputs": [
    {
     "data": {
      "text/plain": [
       "int"
      ]
     },
     "execution_count": 12,
     "metadata": {},
     "output_type": "execute_result"
    }
   ],
   "source": [
    "# 자료형과 클래스 \n",
    "a = 20\n",
    "type(a)\n",
    "a.__class__"
   ]
  },
  {
   "cell_type": "code",
   "execution_count": null,
   "metadata": {},
   "outputs": [],
   "source": []
  }
 ],
 "metadata": {
  "kernelspec": {
   "display_name": "Python 3",
   "language": "python",
   "name": "python3"
  },
  "language_info": {
   "codemirror_mode": {
    "name": "ipython",
    "version": 3
   },
   "file_extension": ".py",
   "mimetype": "text/x-python",
   "name": "python",
   "nbconvert_exporter": "python",
   "pygments_lexer": "ipython3",
   "version": "3.7.9"
  }
 },
 "nbformat": 4,
 "nbformat_minor": 4
}
