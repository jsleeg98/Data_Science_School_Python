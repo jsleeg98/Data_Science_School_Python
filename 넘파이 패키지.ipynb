{
 "cells": [
  {
   "cell_type": "code",
   "execution_count": 9,
   "metadata": {},
   "outputs": [
    {
     "name": "stdout",
     "output_type": "stream",
     "text": [
      "2\n",
      "(2, 3, 4)\n"
     ]
    }
   ],
   "source": [
    "# 넘파이 패키지 임포트\n",
    "import numpy as np\n",
    "\n",
    "# 1차원 배열 만들기 1X3\n",
    "d1_ar = np.array([0,1,2,3])\n",
    "\n",
    "# 2차원 배열 만들기 2X3 = 행 X 열\n",
    "d2_ar = np.array([[0, 1, 2],[3, 4, 5]])\n",
    "\n",
    "# 3차원 배열 만들기 2X3X4 = 김이 X 행 X 열\n",
    "d3_ar = np.array([[[0, 1, 2, 3],[4, 5, 6, 7],[8, 9, 10, 11]],[[12, 13, 14, 15], [16, 17, 18, 19], [20, 21, 22, 23]]])\n",
    "\n",
    "# 배열의 차원 반환 .ndim\n",
    "print(d2_ar.ndim)\n",
    "\n",
    "# 배열의 크기 반환 .shape\n",
    "print(d3_ar.shape)  "
   ]
  },
  {
   "cell_type": "code",
   "execution_count": 21,
   "metadata": {},
   "outputs": [
    {
     "name": "stdout",
     "output_type": "stream",
     "text": [
      "2\n",
      "5\n",
      "23\n",
      "[3 4 5]\n",
      "[17 18 19]\n"
     ]
    }
   ],
   "source": [
    "# 넘파이 패키지 임포트\n",
    "import numpy as np\n",
    "\n",
    "# 1차원 배열 만들기 1X3\n",
    "d1_ar = np.array([0,1,2,3])\n",
    "\n",
    "# 2차원 배열 만들기 2X3 = 행 X 열\n",
    "d2_ar = np.array([[0, 1, 2],[3, 4, 5]])\n",
    "\n",
    "# 3차원 배열 만들기 2X3X4 = 김이 X 행 X 열\n",
    "d3_ar = np.array([[[0, 1, 2, 3],[4, 5, 6, 7],[8, 9, 10, 11]],[[12, 13, 14, 15], [16, 17, 18, 19], [20, 21, 22, 23]]])\n",
    "\n",
    "# 배열 인덱싱\n",
    "print(d1_ar[2])\n",
    "print(d2_ar[1, 2])\n",
    "print(d3_ar[1, 2, 3])\n",
    "\n",
    "# 배열 슬라이싱\n",
    "print(d2_ar[1, :]) # 두번째 행 모든 열 출력\n",
    "print(d3_ar[1, 1, 1:]) #두번째 깊이, 두번째 행, 두번째 열부터 끝 열까지 출력"
   ]
  },
  {
   "cell_type": "code",
   "execution_count": 23,
   "metadata": {},
   "outputs": [
    {
     "name": "stdout",
     "output_type": "stream",
     "text": [
      "[ True False  True False]\n",
      "[0 2]\n"
     ]
    }
   ],
   "source": [
    "# 넘파이 패키지 임포트\n",
    "import numpy as np\n",
    "\n",
    "# 1차원 배열 만들기 1X3\n",
    "d1_ar = np.array([0,1,2,3])\n",
    "\n",
    "# 팬시 인덱싱\n",
    "print(d1_ar % 2 == 0) # 짝수면 원소가 True, 홀수면 원소가 False로 배열이 생성\n",
    "print(d1_ar[d1_ar % 2 == 0]) # 팬시 인덱싱으로 원소가 True인 것만 배열을 생성하여 출력"
   ]
  },
  {
   "cell_type": "code",
   "execution_count": 34,
   "metadata": {},
   "outputs": [
    {
     "name": "stdout",
     "output_type": "stream",
     "text": [
      "[1 1 0 1]\n",
      "[1 2 3]\n",
      "[1. 2. 3.]\n",
      "[b'1' b'2' b'3']\n"
     ]
    }
   ],
   "source": [
    "# 넘파이 패키지 임포트\n",
    "import numpy as np\n",
    "\n",
    "# boolean형 1차원 배열 생성\n",
    "d1_bool_ar = np.array([True, 1, 0, 1], dtype = 'b')\n",
    "print(d1_bool_ar) # [1 1 0 1] 출력\n",
    "\n",
    "# int형 1차원 배열 생성\n",
    "d1_int_ar = np.array([1.0, 2.3, 3.4], dtype = 'i')\n",
    "print(d1_int_ar) # [1 2 3] 출력\n",
    "\n",
    "# float형 1차원 배열 생성\n",
    "d1_float_ar = np.array([1, 2, 3], dtype = 'f')\n",
    "print(d1_float_ar) # [1. 2. 3. ] 출력\n",
    "\n",
    "# 복소 부동소수점(128비트) 1차원 배열 생성\n",
    "d1_cfloat_ar = np.array([1, 2, 3], dtype = 'c')\n",
    "print(d1_cfloat_ar) # [b'1' b'2' b'3']"
   ]
  },
  {
   "cell_type": "code",
   "execution_count": 49,
   "metadata": {},
   "outputs": [
    {
     "name": "stdout",
     "output_type": "stream",
     "text": [
      "[0. 0. 0.]\n",
      "float64\n",
      "[[1 1 1]\n",
      " [1 1 1]]\n",
      "int32\n",
      "[[0. 0. 0.]\n",
      " [0. 0. 0.]]\n",
      "float32\n"
     ]
    }
   ],
   "source": [
    "# 넘파이 패키지 임포트\n",
    "import numpy as np\n",
    "\n",
    "# 크기가 정해져 있고 모든 값이 0인 1차원 배열 생성, 기본값으로 원소는 float 형이다.\n",
    "d1_zeros_ar = np.zeros(3) \n",
    "print(d1_zeros_ar) # [0. 0. 0. ] 출력\n",
    "print(d1_zeros_ar.dtype) # float64 출력\n",
    "\n",
    "# 크기가 정해져 있고 모든 값이 1인 2X3 2차원 배열 생성, 원소를 int32 형으로 설정\n",
    "d2_ones_ar = np.ones((2, 3), dtype = 'i')\n",
    "print(d1_ones_ar) # [[1 1 1], [1 1 1]] 출력\n",
    "print(d1_ones_ar.dtype) # int32 출력\n",
    "\n",
    "# 크기를 튜플로 명시하지 않고 다른 배열과 같은 크기의 원소 0인 배열을 생성\n",
    "d2_zeros2_ar = np.zeros_like(d2_ones_ar, dtype = 'f')\n",
    "print(d2_zeros2_ar) # [[0. 0. 0. ], [0. 0. 0. ]] 출력\n",
    "print(d2_zeros2_ar.dtype) # float64 출력"
   ]
  },
  {
   "cell_type": "code",
   "execution_count": 52,
   "metadata": {},
   "outputs": [
    {
     "name": "stdout",
     "output_type": "stream",
     "text": [
      "[0 1 2 3 4 5 6 7 8 9]\n",
      "[ 2  5  8 11 14 17]\n"
     ]
    }
   ],
   "source": [
    "# 넘파이 패키지 임포트\n",
    "import numpy as np\n",
    "\n",
    "# arrange 명령\n",
    "# 0부터 시작 10미만\n",
    "ex1 = np.arange(10)\n",
    "print(ex1)\n",
    "\n",
    "# 2부터 시작, 20미만, 등차 3 \n",
    "ex2 = np.arange(2, 20, 3)\n",
    "print(ex2)"
   ]
  },
  {
   "cell_type": "code",
   "execution_count": 57,
   "metadata": {},
   "outputs": [
    {
     "name": "stdout",
     "output_type": "stream",
     "text": [
      "[[1 4]\n",
      " [2 5]\n",
      " [3 6]]\n"
     ]
    }
   ],
   "source": [
    "# 넘파이 패키지 임포트\n",
    "import numpy as np\n",
    "\n",
    "# 전치 연산\n",
    "# 2행 3열 2차원 배열 생성\n",
    "ex3 = np.array([[1, 2, 3], [4, 5, 6]])\n",
    "\n",
    "# 3행 2열 2차원 전치 행렬 생성\n",
    "ex4 = ex3.T\n",
    "print(ex4)"
   ]
  },
  {
   "cell_type": "code",
   "execution_count": 68,
   "metadata": {},
   "outputs": [],
   "source": [
    "# 넘파이 패키지 임포트\n",
    "import numpy as np\n",
    "\n",
    "# 배열의 크기 변형\n",
    "\n",
    "# 10개 원소 1차원 배열 생성\n",
    "d1_ar = np.arange(10)\n",
    "\n",
    "# reshape 메서드로 2행 5열 2차원 배열로 변환\n",
    "d2_ar = d1_ar.reshape(2,5)\n",
    "\n",
    "# reshape 메서드 -1 인수는 나머지 원소를 알아서 계산하여 변환\n",
    "d2_ar_2 = d1_ar.reshape(5, -1) # 5행 2열로 배열로 변환\n",
    "\n",
    "# flatten, ravel 메서드로 다차원 배열을 1차원 배열로 만들기\n",
    "d1_flatten = d2_ar.flatten()\n",
    "d1_ravel = d2_ar.ravel()\n",
    "\n",
    "# newaxis 명령으로 1차원 증가시키기\n",
    "d1_ar = d1_ar[:, np.newaxis]"
   ]
  },
  {
   "cell_type": "code",
   "execution_count": 73,
   "metadata": {},
   "outputs": [
    {
     "name": "stdout",
     "output_type": "stream",
     "text": [
      "[[0 0 0 1 1 1 1]\n",
      " [0 0 0 1 1 1 1]]\n"
     ]
    }
   ],
   "source": [
    "# 넘파이 패키지 임포트\n",
    "import numpy as np\n",
    "\n",
    "# 배열 연결\n",
    "\n",
    "# 2X3 원소 0 배열 생성\n",
    "a1 = np.zeros((2, 3), dtype = 'i')\n",
    "# 2X4 원소 1 배열 생성\n",
    "a2 = np.ones((2, 4), dtype = 'i')\n",
    "\n",
    "# hstack 명령 : 행의 수가 같아야 함 : 열 원소 연결\n",
    "print(np.hstack([a1, a2]))"
   ]
  },
  {
   "cell_type": "code",
   "execution_count": 77,
   "metadata": {},
   "outputs": [
    {
     "name": "stdout",
     "output_type": "stream",
     "text": [
      "[[0 0]\n",
      " [0 0]\n",
      " [0 0]\n",
      " [1 1]\n",
      " [1 1]\n",
      " [1 1]\n",
      " [1 1]]\n"
     ]
    }
   ],
   "source": [
    "# 넘파이 패키지 임포트\n",
    "import numpy as np\n",
    "\n",
    "# 배열 연결\n",
    "\n",
    "# 3X2 원소 0 배열 생성\n",
    "a1 = np.zeros((3, 2), dtype = 'i')\n",
    "a2 = np.ones((4, 2), dtype = 'i')\n",
    "\n",
    "# vstack 명령 : 열의 수가 같아야 함 : 행 원소 연결\n",
    "print(np.vstack([a1, a2]))"
   ]
  },
  {
   "cell_type": "code",
   "execution_count": 79,
   "metadata": {},
   "outputs": [
    {
     "name": "stdout",
     "output_type": "stream",
     "text": [
      "[[[0 1]\n",
      "  [0 1]\n",
      "  [0 1]]\n",
      "\n",
      " [[0 1]\n",
      "  [0 1]\n",
      "  [0 1]]]\n"
     ]
    }
   ],
   "source": [
    "# 넘파이 패키지 임포트\n",
    "import numpy as np\n",
    "\n",
    "# 배열 연결\n",
    "\n",
    "# 2X3 원소 0 배열 생성\n",
    "a1 = np.zeros((2, 3), dtype = 'i')\n",
    "# 2X3 원소 1 배열 생성\n",
    "a2 = np.ones((2, 3), dtype = 'i')\n",
    "\n",
    "# dstack 명령 : 행과 열 다 같아야함 : 마지막 차원 증가 : 2X3X2\n",
    "print(np.dstack([a1, a2]))"
   ]
  },
  {
   "cell_type": "code",
   "execution_count": 83,
   "metadata": {},
   "outputs": [
    {
     "name": "stdout",
     "output_type": "stream",
     "text": [
      "[[[0 0 0]\n",
      "  [1 1 1]]\n",
      "\n",
      " [[0 0 0]\n",
      "  [1 1 1]]]\n"
     ]
    }
   ],
   "source": [
    "# 넘파이 패키지 임포트\n",
    "import numpy as np\n",
    "\n",
    "# 배열 연결\n",
    "\n",
    "# 넘파이 패키지 임포트\n",
    "import numpy as np\n",
    "\n",
    "# 배열 연결\n",
    "\n",
    "# 2X3 원소 0 배열 생성\n",
    "a1 = np.zeros((2, 3), dtype = 'i')\n",
    "# 2X3 원소 1 배열 생성\n",
    "a2 = np.ones((2, 3), dtype = 'i')\n",
    "\n",
    "# stack 명령 : 행과 열 다 같아야함 : axis 인수로 원하는 차원 증가\n",
    "print(np.stack([a1, a2], axis = 1)) # axis = 1로 두번째 차원 증가 2X2X3"
   ]
  },
  {
   "cell_type": "code",
   "execution_count": 85,
   "metadata": {},
   "outputs": [
    {
     "name": "stdout",
     "output_type": "stream",
     "text": [
      "[1. 1. 1. 0. 0. 0.]\n"
     ]
    }
   ],
   "source": [
    "# 넘파이 패키지 임포트\n",
    "import numpy as np\n",
    "\n",
    "# 배열 연결\n",
    "\n",
    "# 1차원 배열 생성\n",
    "a1 = np.ones(3)\n",
    "a2 = np.zeros(3)\n",
    "\n",
    "# r_ 메서드, [ ] 중괄호 사용, hstack 명령과 비슷하게 배열 좌우 연결\n",
    "print(np.r_[a1, a2])"
   ]
  },
  {
   "cell_type": "code",
   "execution_count": 87,
   "metadata": {},
   "outputs": [
    {
     "name": "stdout",
     "output_type": "stream",
     "text": [
      "[[1. 0.]\n",
      " [1. 0.]\n",
      " [1. 0.]]\n"
     ]
    }
   ],
   "source": [
    "# 넘파이 패키지 임포트\n",
    "import numpy as np\n",
    "\n",
    "# 배열 연결\n",
    "\n",
    "# 1차원 배열 생성\n",
    "a1 = np.ones(3)\n",
    "a2 = np.zeros(3)\n",
    "\n",
    "# c_ 메서드, [ ] 중괄호 사용, 차원을 증가시킨 후 좌우 연결\n",
    "print(np.c_[a1, a2])"
   ]
  },
  {
   "cell_type": "code",
   "execution_count": 90,
   "metadata": {},
   "outputs": [
    {
     "name": "stdout",
     "output_type": "stream",
     "text": [
      "[1. 1. 1. 1. 1. 1.]\n"
     ]
    }
   ],
   "source": [
    "# 넘파이 패키지 임포트\n",
    "import numpy as np\n",
    "\n",
    "# 배열 연결\n",
    "\n",
    "# 1차원 배열 생성\n",
    "a1 = np.ones(3)\n",
    "\n",
    "# tile 명령, 동일한 배열을 반복하여 연결\n",
    "print(np.tile(a1, 2))"
   ]
  },
  {
   "cell_type": "code",
   "execution_count": 1,
   "metadata": {},
   "outputs": [
    {
     "data": {
      "text/plain": [
       "[[(1, 4), (2, 4), (3, 4)],\n",
       " [(1, 5), (2, 5), (3, 5)],\n",
       " [(1, 6), (2, 6), (3, 6)],\n",
       " [(1, 7), (2, 7), (3, 7)],\n",
       " [(1, 8), (2, 8), (3, 8)],\n",
       " [(1, 9), (2, 9), (3, 9)]]"
      ]
     },
     "execution_count": 1,
     "metadata": {},
     "output_type": "execute_result"
    }
   ],
   "source": [
    "# 넘파이 패키지 임포트\n",
    "import numpy as np\n",
    "\n",
    "# 2차원 그리드 포인트 생성\n",
    "x = np.arange(1, 4)\n",
    "y = np.arange(4, 10)\n",
    "\n",
    "# X좌표, Y좌표 그리드 포인트 배열 각각 생성\n",
    "X, Y = np.meshgrid(x, y)\n",
    "\n",
    "# X, Y 배열을 합쳐서 포인트 배열 생성\n",
    "# 2차원 그리드 포인트 배열 생성, 그래프에서 X 값, Y값이라고 생각하면 된다.\n",
    "[list(zip(x, y)) for x, y in zip(X, Y)]"
   ]
  },
  {
   "cell_type": "code",
   "execution_count": 3,
   "metadata": {},
   "outputs": [
    {
     "name": "stdout",
     "output_type": "stream",
     "text": [
      "[  1   2   3   4   5   6   7   8   9  10  11  12  13  14  15  16  17  18\n",
      "  19  20  21  22  23  24  25  26  27  28  29  30  31  32  33  34  35  36\n",
      "  37  38  39  40  41  42  43  44  45  46  47  48  49  50  51  52  53  54\n",
      "  55  56  57  58  59  60  61  62  63  64  65  66  67  68  69  70  71  72\n",
      "  73  74  75  76  77  78  79  80  81  82  83  84  85  86  87  88  89  90\n",
      "  91  92  93  94  95  96  97  98  99 100]\n",
      "[201 202 203 204 205 206 207 208 209 210 211 212 213 214 215 216 217 218\n",
      " 219 220 221 222 223 224 225 226 227 228 229 230 231 232 233 234 235 236\n",
      " 237 238 239 240 241 242 243 244 245 246 247 248 249 250 251 252 253 254\n",
      " 255 256 257 258 259 260 261 262 263 264 265 266 267 268 269 270 271 272\n",
      " 273 274 275 276 277 278 279 280 281 282 283 284 285 286 287 288 289 290\n",
      " 291 292 293 294 295 296 297 298 299 300]\n",
      "[202 204 206 208 210 212 214 216 218 220 222 224 226 228 230 232 234 236\n",
      " 238 240 242 244 246 248 250 252 254 256 258 260 262 264 266 268 270 272\n",
      " 274 276 278 280 282 284 286 288 290 292 294 296 298 300 302 304 306 308\n",
      " 310 312 314 316 318 320 322 324 326 328 330 332 334 336 338 340 342 344\n",
      " 346 348 350 352 354 356 358 360 362 364 366 368 370 372 374 376 378 380\n",
      " 382 384 386 388 390 392 394 396 398 400]\n"
     ]
    }
   ],
   "source": [
    "# 넘파이 패키지 임포트\n",
    "import numpy as np\n",
    "\n",
    "x = np.arange(1, 101)\n",
    "y = np.arange(201, 301)\n",
    "\n",
    "print(x)\n",
    "print(y)\n",
    "print(x+y) # 벡터 연산이 수행된다.\n",
    "# 사칙연산이 모두 가능하다."
   ]
  },
  {
   "cell_type": "code",
   "execution_count": 5,
   "metadata": {},
   "outputs": [
    {
     "name": "stdout",
     "output_type": "stream",
     "text": [
      "True\n"
     ]
    }
   ],
   "source": [
    "# 넘파이 패키지 임포트\n",
    "import numpy as np\n",
    "\n",
    "# 배열의 모든 원소가 다 같은지 알고 싶다면 all 명령 이용\n",
    "x = np.arange(1, 101)\n",
    "y = np.arange(1, 101)\n",
    "\n",
    "print(np.all(x == y)) # True 출력"
   ]
  },
  {
   "cell_type": "code",
   "execution_count": 7,
   "metadata": {},
   "outputs": [
    {
     "name": "stdout",
     "output_type": "stream",
     "text": [
      "[  2   3   4   5   6   7   8   9  10  11  12  13  14  15  16  17  18  19\n",
      "  20  21  22  23  24  25  26  27  28  29  30  31  32  33  34  35  36  37\n",
      "  38  39  40  41  42  43  44  45  46  47  48  49  50  51  52  53  54  55\n",
      "  56  57  58  59  60  61  62  63  64  65  66  67  68  69  70  71  72  73\n",
      "  74  75  76  77  78  79  80  81  82  83  84  85  86  87  88  89  90  91\n",
      "  92  93  94  95  96  97  98  99 100 101]\n"
     ]
    }
   ],
   "source": [
    "# 넘파이 패키지 임포트\n",
    "import numpy as np\n",
    "\n",
    "# 벡터의 크기가 다를 때 자동으로 브로드캐스팅이 된다.\n",
    "x = np.arange(1, 101)\n",
    "y = 1\n",
    "\n",
    "# 브로드캐스팅\n",
    "print(x+y)"
   ]
  },
  {
   "cell_type": "code",
   "execution_count": 21,
   "metadata": {},
   "outputs": [
    {
     "name": "stdout",
     "output_type": "stream",
     "text": [
      "5050\n",
      "1\n",
      "100\n",
      "0\n",
      "99\n",
      "50.5\n",
      "50.5\n",
      "100\n",
      "833.25\n",
      "28.86607004772212\n",
      "1.0\n",
      "25.75\n"
     ]
    }
   ],
   "source": [
    "# 넘파이 패키지 임포트\n",
    "import numpy as np\n",
    "\n",
    "# 배열 생성\n",
    "x = np.arange(1, 101)\n",
    "\n",
    "print(np.sum(x)) #행 합계 출력 5050\n",
    "print(np.min(x)) #행 최솟값 출력 1\n",
    "print(np.max(x)) #행 최댓값 출력 100\n",
    "print(np.argmin(x)) #행 최솟값의 인덱스 0\n",
    "print(np.argmax(x)) #행 최댓값의 인덱스 99\n",
    "print(np.mean(x)) # 행 평균 50.5\n",
    "print(np.median(x)) # 행 중간값 50.5\n",
    "print(len(x)) # 데이터의 개수 출력 100\n",
    "print(np.var(x)) # 표본 분산 출력 833.35\n",
    "print(np.std(x)) #표본 표준편자 출력 28.866"
   ]
  },
  {
   "cell_type": "code",
   "execution_count": 17,
   "metadata": {},
   "outputs": [],
   "source": [
    "# 넘파이 패키지 임포트\n",
    "import numpy as np\n",
    "\n",
    "# 배열 생성\n",
    "x = np.array([[1, 3, 6, 2], [5, 7, 2, 1], [3, 2, 5, 6]])\n",
    "\n",
    "a = np.sort(x) # 행 기준 정렬\n",
    "b = np.sort(x, axis = 0) # 열 기준 정렬\n",
    "\n",
    "# 배열 생성\n",
    "y = np.array([3, 5, 2, 7])\n",
    "\n",
    "c = np.argsort(y) # 정렬 순서 인덱스 생성"
   ]
  },
  {
   "cell_type": "code",
   "execution_count": 24,
   "metadata": {},
   "outputs": [
    {
     "data": {
      "text/plain": [
       "array([0.77132064, 0.02075195, 0.63364823, 0.74880388, 0.49850701])"
      ]
     },
     "execution_count": 24,
     "metadata": {},
     "output_type": "execute_result"
    }
   ],
   "source": [
    "# 넘파이 패키지 임포트\n",
    "import numpy as np\n",
    "\n",
    "# 시드 설정하기\n",
    "np.random.seed(10)\n",
    "\n",
    "np.random.rand(5) # 5개의 랜덤 변수 생성"
   ]
  },
  {
   "cell_type": "code",
   "execution_count": 30,
   "metadata": {},
   "outputs": [],
   "source": [
    "# 넘파이 패키지 임포트\n",
    "import numpy as np\n",
    "\n",
    "# 배열 생성\n",
    "x = np.arange(5)\n",
    "\n",
    "# 순서 섞기\n",
    "np.random.shuffle(x)"
   ]
  },
  {
   "cell_type": "code",
   "execution_count": 36,
   "metadata": {},
   "outputs": [
    {
     "name": "stdout",
     "output_type": "stream",
     "text": [
      "[0.4236548  0.60276338 0.60276338 0.64589411 0.5488135 ]\n"
     ]
    }
   ],
   "source": [
    "# 넘파이 패키지 임포트\n",
    "import numpy as np\n",
    "\n",
    "# 시드 설정\n",
    "np.random.seed(0)\n",
    "\n",
    "# 랜덤 배열 생성\n",
    "x = np.random.rand(10)\n",
    "\n",
    "# 데이터 샘플링\n",
    "y = np.random.choice(x, 5, replace = True, p = [0.5, 0, 0.1, 0.1, 0.2, 0.1, 0, 0, 0, 0])\n",
    "\n",
    "p"
   ]
  }
 ],
 "metadata": {
  "kernelspec": {
   "display_name": "Python 3",
   "language": "python",
   "name": "python3"
  },
  "language_info": {
   "codemirror_mode": {
    "name": "ipython",
    "version": 3
   },
   "file_extension": ".py",
   "mimetype": "text/x-python",
   "name": "python",
   "nbconvert_exporter": "python",
   "pygments_lexer": "ipython3",
   "version": "3.7.9"
  }
 },
 "nbformat": 4,
 "nbformat_minor": 4
}
