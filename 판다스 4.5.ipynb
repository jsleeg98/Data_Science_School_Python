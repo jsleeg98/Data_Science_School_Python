{
 "metadata": {
  "language_info": {
   "codemirror_mode": {
    "name": "ipython",
    "version": 3
   },
   "file_extension": ".py",
   "mimetype": "text/x-python",
   "name": "python",
   "nbconvert_exporter": "python",
   "pygments_lexer": "ipython3",
   "version": "3.7.9-final"
  },
  "orig_nbformat": 2,
  "kernelspec": {
   "name": "python3",
   "display_name": "Python 3",
   "language": "python"
  }
 },
 "nbformat": 4,
 "nbformat_minor": 2,
 "cells": [
  {
   "source": [
    "# 2.5 데이터프레임 인덱스 조작\n",
    "## 연습 문제 4.5.1\n",
    "5명의 학생의 국어, 영어, 수학 점수를 나타내는 데이터프레임을 다음과 같이 만든다.\n",
    "\n",
    "1. 학생 이름을 나타내는 열을 포함시키지 않고 데이터프레임 df_score1 을 생성한 후, df_score1.index 속성에 학생 이름을 나타내는 열을 지정하여 인덱스를 지정한다. reset_index 명령으로 이 인덱스 열을 명령으로 일반 데이터열로 바꾸여 데이터프레임 df_score2을 만든다.\n",
    "\n",
    "2. 학생 이름을 나타내는 열이 일반 데이터 열을 포함하는 데이터프레임 df_score2에 set_index 명령을 적용하여 다시 학생 이름을 나타내는 열을 인덱스로 변경한다.\n",
    "\n"
   ],
   "cell_type": "markdown",
   "metadata": {}
  },
  {
   "cell_type": "code",
   "execution_count": 8,
   "metadata": {},
   "outputs": [],
   "source": [
    "import pandas as pd\n",
    "\n",
    "data = {\n",
    "    \"국어\" : [90, 60, 70, 85, 75],\n",
    "    \"영어\" : [60, 70, 50, 95, 80],\n",
    "    \"수학\" : [85, 80, 90, 70, 90]\n",
    "}\n",
    "# 학생 이름을 나타내는 열을 포함하지 않는 데이터프레임 생성\n",
    "df_score1 = pd.DataFrame(data)\n",
    "# 학생 이름을 index 속성에 추가\n",
    "df_score1.index = [\"짱구\", \"철수\", \"훈이\", \"유리\", \"맹구\"]\n",
    "\n",
    "# 기존 인덱스를 일반 데이터열로 바꾸어 인덱스 수정\n",
    "df_score2 = df_score1.reset_index()"
   ]
  },
  {
   "source": [
    "## 연습문제 4.5.2\n",
    "A 반 학생 5명과 B반 학생 5명의 국어, 영어, 수학 점수를 나타내는 데이터프레임을 다음과 같이 만든다.\n",
    "\n",
    "1. “반”, “번호”, “국어”, “영어”, “수학” 을 열로 가지는 데이터프레임 df_score3을 만든다.\n",
    "\n",
    "2. df_score3을 변형하여 1차 행 인덱스로 “반”을 2차 행 인덱스로 “번호”을 가지는 데이터프레임 df_score4을 만든다.\n",
    "\n",
    "3. 데이터 프레임 df_score4에 각 학생의 평균을 나타내는 행을 오른쪽에 추가한다.\n",
    "\n",
    "4. df_score3을 변형하여 행 인덱스로 “번호”를, 1차 열 인덱스로 “국어”, “영어”, “수학”을, 2차 열 인덱스로 “반”을 가지는 데이터프레임 df_score5을 만든다.\n",
    "\n",
    "5. 데이터 프레임 df_score5에 각 반별 각 과목의 평균을 나타내는 행을 아래에 추가한다."
   ],
   "cell_type": "markdown",
   "metadata": {}
  },
  {
   "cell_type": "code",
   "execution_count": 55,
   "metadata": {},
   "outputs": [
    {
     "output_type": "stream",
     "name": "stdout",
     "text": [
      "      국어  영어  수학         평균\n반 번호                       \nA 1   90  60  85  78.333333\n  2   60  70  80  70.000000\n  3   70  50  90  70.000000\n  4   85  95  70  83.333333\n  5   75  80  90  81.666667\nB 1   60  90  60  70.000000\n  2   79  60  70  69.666667\n  3   56  70  50  58.666667\n  4   90  85  95  90.000000\n  5   70  75  80  75.000000\n    국어      영어      수학    \n반    A   B   A   B   A   B\n번호                        \n1   90  60  60  90  85  60\n2   60  79  70  60  80  70\n3   70  56  50  70  90  50\n4   85  90  95  85  70  95\n5   75  70  80  75  90  80\n"
     ]
    },
    {
     "output_type": "execute_result",
     "data": {
      "text/plain": [
       "      국어          영어          수학      \n",
       "반      A     B     A     B     A     B\n",
       "번호                                    \n",
       "1   90.0  60.0  60.0  90.0  85.0  60.0\n",
       "2   60.0  79.0  70.0  60.0  80.0  70.0\n",
       "3   70.0  56.0  50.0  70.0  90.0  50.0\n",
       "4   85.0  90.0  95.0  85.0  70.0  95.0\n",
       "5   75.0  70.0  80.0  75.0  90.0  80.0\n",
       "평균  76.0  71.0  71.0  76.0  83.0  71.0"
      ],
      "text/html": "<div>\n<style scoped>\n    .dataframe tbody tr th:only-of-type {\n        vertical-align: middle;\n    }\n\n    .dataframe tbody tr th {\n        vertical-align: top;\n    }\n\n    .dataframe thead tr th {\n        text-align: left;\n    }\n\n    .dataframe thead tr:last-of-type th {\n        text-align: right;\n    }\n</style>\n<table border=\"1\" class=\"dataframe\">\n  <thead>\n    <tr>\n      <th></th>\n      <th colspan=\"2\" halign=\"left\">국어</th>\n      <th colspan=\"2\" halign=\"left\">영어</th>\n      <th colspan=\"2\" halign=\"left\">수학</th>\n    </tr>\n    <tr>\n      <th>반</th>\n      <th>A</th>\n      <th>B</th>\n      <th>A</th>\n      <th>B</th>\n      <th>A</th>\n      <th>B</th>\n    </tr>\n    <tr>\n      <th>번호</th>\n      <th></th>\n      <th></th>\n      <th></th>\n      <th></th>\n      <th></th>\n      <th></th>\n    </tr>\n  </thead>\n  <tbody>\n    <tr>\n      <th>1</th>\n      <td>90.0</td>\n      <td>60.0</td>\n      <td>60.0</td>\n      <td>90.0</td>\n      <td>85.0</td>\n      <td>60.0</td>\n    </tr>\n    <tr>\n      <th>2</th>\n      <td>60.0</td>\n      <td>79.0</td>\n      <td>70.0</td>\n      <td>60.0</td>\n      <td>80.0</td>\n      <td>70.0</td>\n    </tr>\n    <tr>\n      <th>3</th>\n      <td>70.0</td>\n      <td>56.0</td>\n      <td>50.0</td>\n      <td>70.0</td>\n      <td>90.0</td>\n      <td>50.0</td>\n    </tr>\n    <tr>\n      <th>4</th>\n      <td>85.0</td>\n      <td>90.0</td>\n      <td>95.0</td>\n      <td>85.0</td>\n      <td>70.0</td>\n      <td>95.0</td>\n    </tr>\n    <tr>\n      <th>5</th>\n      <td>75.0</td>\n      <td>70.0</td>\n      <td>80.0</td>\n      <td>75.0</td>\n      <td>90.0</td>\n      <td>80.0</td>\n    </tr>\n    <tr>\n      <th>평균</th>\n      <td>76.0</td>\n      <td>71.0</td>\n      <td>71.0</td>\n      <td>76.0</td>\n      <td>83.0</td>\n      <td>71.0</td>\n    </tr>\n  </tbody>\n</table>\n</div>"
     },
     "metadata": {},
     "execution_count": 55
    }
   ],
   "source": [
    "import pandas as pd\n",
    "\n",
    "data = {\n",
    "    \"반\" : ['A', 'A', 'A', 'A', 'A', 'B', 'B', 'B', 'B', 'B'],\n",
    "    \"번호\" : [1, 2, 3, 4, 5, 1, 2, 3, 4, 5],\n",
    "    \"국어\" : [90, 60, 70, 85, 75, 60, 79, 56, 90, 70],\n",
    "    \"영어\" : [60, 70, 50, 95, 80, 90, 60, 70, 85, 75],\n",
    "    \"수학\" : [85, 80, 90, 70, 90, 60, 70, 50, 95, 80]\n",
    "}\n",
    "# 1번 문제\n",
    "# df_score3 만들기\n",
    "df_score3 = pd.DataFrame(data)\n",
    "\n",
    "# 2번 문제\n",
    "# df_score4 만들기\n",
    "df_score4 = df_score3.set_index(['반','번호'])\n",
    "\n",
    "# 3번 문제\n",
    "# 행 단위 평균 계산하여 시리즈로 저장\n",
    "mean = df_score4.apply(lambda x : x.mean(), axis = 1)\n",
    "# 평균 열 추가\n",
    "df_score4['평균'] = mean\n",
    "print(df_score4)\n",
    "\n",
    "# 4번 문제\n",
    "df_score5 = df_score3.set_index(['반', '번호']).unstack('반')\n",
    "print(df_score5)\n",
    "\n",
    "# 5번 문제\n",
    "df_score5.loc['평균',:] = df_score5.apply(lambda x : x.mean())\n"
   ]
  }
 ]
}