{
 "cells": [
  {
   "cell_type": "markdown",
   "metadata": {},
   "source": [
    "## 시리즈 인덱싱"
   ]
  },
  {
   "cell_type": "code",
   "execution_count": 96,
   "metadata": {},
   "outputs": [
    {
     "data": {
      "text/plain": [
       "서울    9904312\n",
       "부산    3448737\n",
       "dtype: int64"
      ]
     },
     "execution_count": 96,
     "metadata": {},
     "output_type": "execute_result"
    }
   ],
   "source": [
    "s = pd.Series([9904312, 3448737, 2890451, 2466052],\n",
    "              index=[\"서울\", \"부산\", \"인천\", \"대구\"])\n",
    "\n",
    "s[0] # 9904312\n",
    "s['서울'] #9904312\n",
    "\n",
    "# 다음은 비문이다.\n",
    "# s[0, 1]\n",
    "\n",
    "# 인덱싱을 할 때는 : 를 이용하거나 [[]] 꼴로 해야한다. 아래 두 개는 결과가 같다.\n",
    "s[0:2] # 서울, 부산\n",
    "s[[0, 1]] #서울, 부산\n"
   ]
  },
  {
   "cell_type": "markdown",
   "metadata": {},
   "source": [
    "## 시리즈와 딕셔너리"
   ]
  },
  {
   "cell_type": "code",
   "execution_count": 98,
   "metadata": {},
   "outputs": [
    {
     "name": "stdout",
     "output_type": "stream",
     "text": [
      "서울 = 9904312\n",
      "부산 = 3448737\n",
      "인천 = 2890451\n",
      "대구 = 2466052\n"
     ]
    }
   ],
   "source": [
    "s = pd.Series([9904312, 3448737, 2890451, 2466052],\n",
    "              index=[\"서울\", \"부산\", \"인천\", \"대구\"])\n",
    "\n",
    "\"인천\" in s #True\n",
    "\n",
    "# .items() 메소드 사용가능\n",
    "for key, value in s.items():\n",
    "    print(\"%s = %d\"%(key, value))"
   ]
  },
  {
   "cell_type": "markdown",
   "metadata": {},
   "source": [
    "## 데이터 갱신, 추가, 삭제"
   ]
  },
  {
   "cell_type": "code",
   "execution_count": 103,
   "metadata": {},
   "outputs": [
    {
     "data": {
      "text/plain": [
       "서울    3456785\n",
       "인천    2890451\n",
       "대구    2466052\n",
       "대전    2489712\n",
       "dtype: int64"
      ]
     },
     "execution_count": 103,
     "metadata": {},
     "output_type": "execute_result"
    }
   ],
   "source": [
    "s = pd.Series([9904312, 3448737, 2890451, 2466052],\n",
    "              index=[\"서울\", \"부산\", \"인천\", \"대구\"])\n",
    "\n",
    "# 데이터 추가\n",
    "s[\"대전\"] = 2489712\n",
    "\n",
    "# 데이터 갱신\n",
    "s[\"서울\"] = 3456785\n",
    "\n",
    "# 데이터 삭제\n",
    "del s[\"부산\"]\n"
   ]
  },
  {
   "cell_type": "markdown",
   "metadata": {},
   "source": [
    "## 연습 문제 4.1.1\n",
    "\n",
    "(1) 임의로 두 개의 시리즈 객체를 만든다. 모두 문자열 인덱스를 가져야 하며 두 시리즈에 공통적으로 포함되지 않는 라벨이 있어야 한다.\n",
    "\n",
    "(2) 위에서 만든 두 시리즈 객체를 이용하여 사칙 연산을 한다.\n",
    "\n"
   ]
  },
  {
   "cell_type": "code",
   "execution_count": 18,
   "metadata": {},
   "outputs": [],
   "source": [
    "import pandas as pd\n",
    "\n",
    "# (1) 임의의 두 개의 시리즈 객체 만들기\n",
    "x = pd.Series([100, 98, 60, 70], index = [\"국어\", \"영어\", \"수학\", \"과학\"])\n",
    "y = pd.Series([98, 50, 84, 89], index = [\"국어\", \"영어\", \"수학\", \"사회\"])\n",
    "\n",
    "# (2) 두 시리즈 객체를 이용하여 사칙 연산을 한다.\n",
    "# 더하기\n",
    "plus = x + y\n",
    "\n",
    "# 삐기\n",
    "minus = x - y\n",
    "\n",
    "# 곱하기\n",
    "multi = x * y\n",
    "\n",
    "# 나누기\n",
    "div = x / y"
   ]
  },
  {
   "cell_type": "markdown",
   "metadata": {},
   "source": [
    "## 연습 문제 4.1.2\n",
    "\n",
    "다음 조건을 만족하는 임의의 데이터프레임을 하나 만든다.\n",
    "\n",
    "(1) 열의 갯수와 행의 갯수가 각각 5개 이상이어야 한다.\n",
    "\n",
    "(2) 열에는 정수, 문자열, 실수 자료형 데이터가 각각 1개 이상씩 포함되어 있어야 한다."
   ]
  },
  {
   "cell_type": "code",
   "execution_count": 22,
   "metadata": {},
   "outputs": [
    {
     "data": {
      "text/html": [
       "<div>\n",
       "<style scoped>\n",
       "    .dataframe tbody tr th:only-of-type {\n",
       "        vertical-align: middle;\n",
       "    }\n",
       "\n",
       "    .dataframe tbody tr th {\n",
       "        vertical-align: top;\n",
       "    }\n",
       "\n",
       "    .dataframe thead th {\n",
       "        text-align: right;\n",
       "    }\n",
       "</style>\n",
       "<table border=\"1\" class=\"dataframe\">\n",
       "  <thead>\n",
       "    <tr style=\"text-align: right;\">\n",
       "      <th></th>\n",
       "      <th>종목명</th>\n",
       "      <th>종가</th>\n",
       "      <th>등락률</th>\n",
       "      <th>PER</th>\n",
       "      <th>ROE</th>\n",
       "    </tr>\n",
       "  </thead>\n",
       "  <tbody>\n",
       "    <tr>\n",
       "      <th>005830</th>\n",
       "      <td>삼성전자</td>\n",
       "      <td>83900</td>\n",
       "      <td>1.08</td>\n",
       "      <td>22.91</td>\n",
       "      <td>8.69</td>\n",
       "    </tr>\n",
       "    <tr>\n",
       "      <th>000660</th>\n",
       "      <td>SK하이닉스</td>\n",
       "      <td>130500</td>\n",
       "      <td>3.57</td>\n",
       "      <td>33.11</td>\n",
       "      <td>4.25</td>\n",
       "    </tr>\n",
       "    <tr>\n",
       "      <th>051910</th>\n",
       "      <td>LG화학</td>\n",
       "      <td>893000</td>\n",
       "      <td>0.45</td>\n",
       "      <td>83.43</td>\n",
       "      <td>1.84</td>\n",
       "    </tr>\n",
       "    <tr>\n",
       "      <th>207940</th>\n",
       "      <td>삼성바이오로직스</td>\n",
       "      <td>832000</td>\n",
       "      <td>0.36</td>\n",
       "      <td>154.91</td>\n",
       "      <td>4.77</td>\n",
       "    </tr>\n",
       "    <tr>\n",
       "      <th>035420</th>\n",
       "      <td>NAVER</td>\n",
       "      <td>292500</td>\n",
       "      <td>-0.17</td>\n",
       "      <td>58.23</td>\n",
       "      <td>10.56</td>\n",
       "    </tr>\n",
       "  </tbody>\n",
       "</table>\n",
       "</div>"
      ],
      "text/plain": [
       "             종목명      종가   등락률     PER    ROE\n",
       "005830      삼성전자   83900  1.08   22.91   8.69\n",
       "000660    SK하이닉스  130500  3.57   33.11   4.25\n",
       "051910      LG화학  893000  0.45   83.43   1.84\n",
       "207940  삼성바이오로직스  832000  0.36  154.91   4.77\n",
       "035420     NAVER  292500 -0.17   58.23  10.56"
      ]
     },
     "execution_count": 22,
     "metadata": {},
     "output_type": "execute_result"
    }
   ],
   "source": [
    "import pandas as pd\n",
    "\n",
    "data = {\n",
    "    \"종가\" : [83900, 130500, 893000, 832000, 292500],\n",
    "    \"종목명\" : [\"삼성전자\", \"SK하이닉스\", \"LG화학\", \"삼성바이오로직스\", \"NAVER\"],\n",
    "    \"PER\" : [22.91, 33.11, 83.43, 154.91, 58.23],\n",
    "    \"ROE\" : [8.69, 4.25, 1.84, 4.77, 10.56],\n",
    "    \"등락률\" : [1.08, 3.57, 0.45, 0.36, -0.17]\n",
    "}\n",
    "columns = [\"종목명\", \"종가\", \"등락률\", \"PER\", \"ROE\"]\n",
    "index = [\"005830\", \"000660\", \"051910\", \"207940\", \"035420\"]\n",
    "\n",
    "df = pd.DataFrame(data, index = index, columns = columns)\n",
    "df"
   ]
  },
  {
   "cell_type": "markdown",
   "metadata": {},
   "source": [
    "## 다음 데이터프레임에서 지정하는 데이터를 뽑아내거나 처리하라.\n",
    "\n",
    "(1) 모든 학생의 수학 점수를 시리즈로 나타낸다.\n",
    "\n",
    "(2) 모든 학생의 국어와 영어 점수를 데이터 프레임으로 나타낸다.\n",
    "\n",
    "(3) 모든 학생의 각 과목 평균 점수를 새로운 열로 추가한다.\n",
    "\n",
    "(4) 방자의 영어 점수를 80점으로 수정하고 평균 점수도 다시 계산한다.\n",
    "\n",
    "(5) 춘향의 점수를 데이터프레임으로 나타낸다.\n",
    "\n",
    "(6) 향단의 점수를 시리즈로 나타낸다."
   ]
  },
  {
   "cell_type": "code",
   "execution_count": 82,
   "metadata": {},
   "outputs": [
    {
     "data": {
      "text/plain": [
       "국어            70.0\n",
       "영어            60.0\n",
       "수학            80.0\n",
       "각 과목 평균 점수    70.0\n",
       "Name: 향단, dtype: float64"
      ]
     },
     "execution_count": 82,
     "metadata": {},
     "output_type": "execute_result"
    }
   ],
   "source": [
    "import pandas as pd\n",
    "\n",
    "data = {\n",
    "    \"국어\": [80, 90, 70, 30],\n",
    "    \"영어\": [90, 70, 60, 40],\n",
    "    \"수학\": [90, 60, 80, 70],\n",
    "}\n",
    "columns = [\"국어\", \"영어\", \"수학\"]\n",
    "index = [\"춘향\", \"몽룡\", \"향단\", \"방자\"]\n",
    "df = pd.DataFrame(data, index=index, columns=columns)\n",
    "\n",
    "# (1) 모든 학생의 수학 점수를 시리즈로 나타낸다.\n",
    "series_m = df[\"수학\"]\n",
    "\n",
    "# (2) 모든 학생의 국어와 영어 점수를 데이터 프레임으로 나타낸다.\n",
    "df_kor_eng = df[[\"국어\", \"영어\"]]\n",
    "\n",
    "# (3) 모든 학생의 각 과목 평균 점수를 새로운 열로 추가한다.\n",
    "df[\"각 과목 평균 점수\"] = ((df[\"국어\"] + df[\"영어\"] + df[\"수학\"]) / 3).round(2)\n",
    "\n",
    "# (4) 방자의 영어 점수를 80점으로 수정하고 평균 점수도 다시 계산한다.\n",
    "# 데이터의 갱신은 열 단위로 할 수 있다.\n",
    "df['영어'] = [90, 70, 60, 80]\n",
    "df[\"각 과목 평균 점수\"] = ((df[\"국어\"] + df[\"영어\"] + df[\"수학\"]) / 3).round(2)\n",
    "\n",
    "# 아래와 같이 개별적으로 바꾸는 것은 SettingWithCopyWarning 오류 메시지가 뜬다.\n",
    "# df['영어']['방자'] = 80 \n",
    "\n",
    "\n",
    "# (5) 춘향의 점수를 데이터프레임으로 나타낸다.\n",
    "# 행 데이터는 정수 슬라이싱으로 할 수 있다.\n",
    "df[:1] \n",
    "\n",
    "# (6) 향단의 점수를 시리즈로 나타낸다.\n",
    "# 시리즈로 추출하는 것은 열 인덱싱을 했을 때 가능하기 때문에 .T로 전치처리를 해주어야 한다.\n",
    "df.T['향단']"
   ]
  },
  {
   "cell_type": "code",
   "execution_count": 90,
   "metadata": {},
   "outputs": [
    {
     "data": {
      "text/plain": [
       "부산    3448737\n",
       "인천    2890451\n",
       "dtype: int64"
      ]
     },
     "execution_count": 90,
     "metadata": {},
     "output_type": "execute_result"
    }
   ],
   "source": [
    "s = pd.Series([9904312, 3448737, 2890451, 2466052],\n",
    "              index=[\"서울\", \"부산\", \"인천\", \"대구\"])\n",
    "\n",
    "s[1:3]"
   ]
  },
  {
   "source": [
    "# 데이터 입출력"
   ],
   "cell_type": "markdown",
   "metadata": {}
  },
  {
   "source": [
    "## 데이터 생성\n",
    "\n",
    "%%writefile 파일이름.csv"
   ],
   "cell_type": "markdown",
   "metadata": {}
  },
  {
   "source": [
    "%%writefile sample1.csv\n",
    "열1, 열2, 열3\n",
    "1, 1.11, one\n",
    "2, 2.22, two\n",
    "3, 3.33, three"
   ],
   "cell_type": "code",
   "metadata": {},
   "execution_count": 7,
   "outputs": [
    {
     "output_type": "stream",
     "name": "stdout",
     "text": [
      "Overwriting sample1.csv\n"
     ]
    }
   ]
  },
  {
   "source": [
    "## 데이터 입력"
   ],
   "cell_type": "markdown",
   "metadata": {}
  },
  {
   "source": [
    "### pd.read_csv('파일이름.csv') 사용"
   ],
   "cell_type": "markdown",
   "metadata": {}
  },
  {
   "source": [
    "import pandas as pd\n",
    "\n",
    "# 행 인덱스와 열 인덱스 모두 지정해주지 않으면 행 인덱스는 0부터 자동으로 매겨지고 열 인덱스는 첫 번째 행이 된다.\n",
    "pd.read_csv(\"sample1.csv\")\n",
    "\n",
    "# 행 인덱스 설정\n",
    "# c1 열이 행 인덱스로 설정된다.\n",
    "pd.read_csv('sample1.csv', index_col = '열1')\n",
    "\n",
    "# 열 인덱스 설정\n",
    "# names 리스트가 열 인덱스로 설정된다.\n",
    "pd.read_csv('sample1.csv', names= ['1열','2열','3열'])"
   ],
   "cell_type": "code",
   "metadata": {},
   "execution_count": 8,
   "outputs": [
    {
     "output_type": "execute_result",
     "data": {
      "text/plain": [
       "   1열     2열      3열\n",
       "0  열1     열2      열3\n",
       "1   1   1.11     one\n",
       "2   2   2.22     two\n",
       "3   3   3.33   three"
      ],
      "text/html": "<div>\n<style scoped>\n    .dataframe tbody tr th:only-of-type {\n        vertical-align: middle;\n    }\n\n    .dataframe tbody tr th {\n        vertical-align: top;\n    }\n\n    .dataframe thead th {\n        text-align: right;\n    }\n</style>\n<table border=\"1\" class=\"dataframe\">\n  <thead>\n    <tr style=\"text-align: right;\">\n      <th></th>\n      <th>1열</th>\n      <th>2열</th>\n      <th>3열</th>\n    </tr>\n  </thead>\n  <tbody>\n    <tr>\n      <th>0</th>\n      <td>열1</td>\n      <td>열2</td>\n      <td>열3</td>\n    </tr>\n    <tr>\n      <th>1</th>\n      <td>1</td>\n      <td>1.11</td>\n      <td>one</td>\n    </tr>\n    <tr>\n      <th>2</th>\n      <td>2</td>\n      <td>2.22</td>\n      <td>two</td>\n    </tr>\n    <tr>\n      <th>3</th>\n      <td>3</td>\n      <td>3.33</td>\n      <td>three</td>\n    </tr>\n  </tbody>\n</table>\n</div>"
     },
     "metadata": {},
     "execution_count": 8
    }
   ]
  },
  {
   "source": [
    "### skiprows 사용"
   ],
   "cell_type": "markdown",
   "metadata": {}
  },
  {
   "cell_type": "code",
   "execution_count": 2,
   "metadata": {},
   "outputs": [
    {
     "output_type": "execute_result",
     "data": {
      "text/plain": [
       "   1열    2열      3열\n",
       "0   1  1.11     one\n",
       "1   2  2.22     two\n",
       "2   3  3.33   three"
      ],
      "text/html": "<div>\n<style scoped>\n    .dataframe tbody tr th:only-of-type {\n        vertical-align: middle;\n    }\n\n    .dataframe tbody tr th {\n        vertical-align: top;\n    }\n\n    .dataframe thead th {\n        text-align: right;\n    }\n</style>\n<table border=\"1\" class=\"dataframe\">\n  <thead>\n    <tr style=\"text-align: right;\">\n      <th></th>\n      <th>1열</th>\n      <th>2열</th>\n      <th>3열</th>\n    </tr>\n  </thead>\n  <tbody>\n    <tr>\n      <th>0</th>\n      <td>1</td>\n      <td>1.11</td>\n      <td>one</td>\n    </tr>\n    <tr>\n      <th>1</th>\n      <td>2</td>\n      <td>2.22</td>\n      <td>two</td>\n    </tr>\n    <tr>\n      <th>2</th>\n      <td>3</td>\n      <td>3.33</td>\n      <td>three</td>\n    </tr>\n  </tbody>\n</table>\n</div>"
     },
     "metadata": {},
     "execution_count": 2
    }
   ],
   "source": [
    "import pandas as pd\n",
    "\n",
    "# 첫번째 행 제외\n",
    "pd.read_csv('sample1.csv', skiprows = [0], names = ['1열', '2열', '3열'])"
   ]
  },
  {
   "source": [
    "### na_values 사용"
   ],
   "cell_type": "markdown",
   "metadata": {}
  },
  {
   "cell_type": "code",
   "execution_count": 3,
   "metadata": {},
   "outputs": [
    {
     "output_type": "execute_result",
     "data": {
      "text/plain": [
       "   1열    2열      3열\n",
       "0   1   NaN     one\n",
       "1   2  2.22     two\n",
       "2   3  3.33   three"
      ],
      "text/html": "<div>\n<style scoped>\n    .dataframe tbody tr th:only-of-type {\n        vertical-align: middle;\n    }\n\n    .dataframe tbody tr th {\n        vertical-align: top;\n    }\n\n    .dataframe thead th {\n        text-align: right;\n    }\n</style>\n<table border=\"1\" class=\"dataframe\">\n  <thead>\n    <tr style=\"text-align: right;\">\n      <th></th>\n      <th>1열</th>\n      <th>2열</th>\n      <th>3열</th>\n    </tr>\n  </thead>\n  <tbody>\n    <tr>\n      <th>0</th>\n      <td>1</td>\n      <td>NaN</td>\n      <td>one</td>\n    </tr>\n    <tr>\n      <th>1</th>\n      <td>2</td>\n      <td>2.22</td>\n      <td>two</td>\n    </tr>\n    <tr>\n      <th>2</th>\n      <td>3</td>\n      <td>3.33</td>\n      <td>three</td>\n    </tr>\n  </tbody>\n</table>\n</div>"
     },
     "metadata": {},
     "execution_count": 3
    }
   ],
   "source": [
    "import pandas as pd\n",
    "\n",
    "# 1.11 을 NaN으로 처리하려 읽어온다.\n",
    "pd.read_csv('sample1.csv', skiprows = [0], names = ['1열', '2열', '3열'], na_values=['1.11'])"
   ]
  },
  {
   "source": [
    "### datareader 패키지 사용"
   ],
   "cell_type": "markdown",
   "metadata": {}
  },
  {
   "cell_type": "code",
   "execution_count": 4,
   "metadata": {},
   "outputs": [
    {
     "output_type": "execute_result",
     "data": {
      "text/plain": [
       "                  GDP\n",
       "DATE                 \n",
       "2020-01-01  21561.139\n",
       "2020-04-01  19520.114\n",
       "2020-07-01  21170.252"
      ],
      "text/html": "<div>\n<style scoped>\n    .dataframe tbody tr th:only-of-type {\n        vertical-align: middle;\n    }\n\n    .dataframe tbody tr th {\n        vertical-align: top;\n    }\n\n    .dataframe thead th {\n        text-align: right;\n    }\n</style>\n<table border=\"1\" class=\"dataframe\">\n  <thead>\n    <tr style=\"text-align: right;\">\n      <th></th>\n      <th>GDP</th>\n    </tr>\n    <tr>\n      <th>DATE</th>\n      <th></th>\n    </tr>\n  </thead>\n  <tbody>\n    <tr>\n      <th>2020-01-01</th>\n      <td>21561.139</td>\n    </tr>\n    <tr>\n      <th>2020-04-01</th>\n      <td>19520.114</td>\n    </tr>\n    <tr>\n      <th>2020-07-01</th>\n      <td>21170.252</td>\n    </tr>\n  </tbody>\n</table>\n</div>"
     },
     "metadata": {},
     "execution_count": 4
    }
   ],
   "source": [
    "import datetime\n",
    "dt_start = datetime.datetime(2020, 1, 1)\n",
    "dt_end = datetime.datetime(2021, 1, 5)\n",
    "\n",
    "import pandas_datareader as pdr\n",
    "\n",
    "gdp = pdr.get_data_fred('GDP', dt_start, dt_end)\n",
    "gdp.tail()"
   ]
  },
  {
   "source": [
    "## 데이터 출력\n",
    "\n",
    " 데이터 출력\n",
    "\n",
    "### pd.to_csv('파일이름.csv') 사용"
   ],
   "cell_type": "markdown",
   "metadata": {}
  },
  {
   "cell_type": "code",
   "execution_count": 6,
   "metadata": {},
   "outputs": [],
   "source": [
    "import datetime\n",
    "dt_start = datetime.datetime(2020, 1, 1)\n",
    "dt_end = datetime.datetime(2021, 1, 5)\n",
    "\n",
    "import pandas_datareader as pdr\n",
    "\n",
    "gdp = pdr.get_data_fred('GDP', dt_start, dt_end)\n",
    "gdp.tail()\n",
    "\n",
    "gdp.to_csv('gdp.csv')"
   ]
  },
  {
   "source": [
    "## 연습문제 4.3.1\n",
    "1. 모든 행과 열에 라벨을 가지는 5 x 5 이상의 크기를 가지는 데이터프레임을 만든다.\n",
    "\n",
    "2. 10가지 이상의 방법으로 특정한 행과 열을 선택한다."
   ],
   "cell_type": "markdown",
   "metadata": {}
  },
  {
   "cell_type": "code",
   "execution_count": 9,
   "metadata": {},
   "outputs": [
    {
     "output_type": "execute_result",
     "data": {
      "text/plain": [
       "    1열  2열  3열  4열  5열\n",
       "1행  10  11  12  13  14\n",
       "2행  15  16  17  18  19\n",
       "3행  20  21  22  23  24\n",
       "4행  25  26  27  28  29\n",
       "5행  30  31  32  33  34"
      ],
      "text/html": "<div>\n<style scoped>\n    .dataframe tbody tr th:only-of-type {\n        vertical-align: middle;\n    }\n\n    .dataframe tbody tr th {\n        vertical-align: top;\n    }\n\n    .dataframe thead th {\n        text-align: right;\n    }\n</style>\n<table border=\"1\" class=\"dataframe\">\n  <thead>\n    <tr style=\"text-align: right;\">\n      <th></th>\n      <th>1열</th>\n      <th>2열</th>\n      <th>3열</th>\n      <th>4열</th>\n      <th>5열</th>\n    </tr>\n  </thead>\n  <tbody>\n    <tr>\n      <th>1행</th>\n      <td>10</td>\n      <td>11</td>\n      <td>12</td>\n      <td>13</td>\n      <td>14</td>\n    </tr>\n    <tr>\n      <th>2행</th>\n      <td>15</td>\n      <td>16</td>\n      <td>17</td>\n      <td>18</td>\n      <td>19</td>\n    </tr>\n    <tr>\n      <th>3행</th>\n      <td>20</td>\n      <td>21</td>\n      <td>22</td>\n      <td>23</td>\n      <td>24</td>\n    </tr>\n    <tr>\n      <th>4행</th>\n      <td>25</td>\n      <td>26</td>\n      <td>27</td>\n      <td>28</td>\n      <td>29</td>\n    </tr>\n    <tr>\n      <th>5행</th>\n      <td>30</td>\n      <td>31</td>\n      <td>32</td>\n      <td>33</td>\n      <td>34</td>\n    </tr>\n  </tbody>\n</table>\n</div>"
     },
     "metadata": {},
     "execution_count": 9
    }
   ],
   "source": [
    "import pandas as pd\n",
    "import numpy as np\n",
    "\n",
    "df = pd.DataFrame(np.arange(10, 35).reshape(5,5),\n",
    "    index=['1행', '2행', '3행', '4행', '5행'],\n",
    "    columns=['1열', '2열', '3열', '4열', '5열']\n",
    ")\n",
    "df"
   ]
  },
  {
   "cell_type": "code",
   "execution_count": 29,
   "metadata": {},
   "outputs": [
    {
     "output_type": "stream",
     "name": "stdout",
     "text": [
      "1열    10\n2열    11\n3열    12\n4열    13\n5열    14\nName: 1행, dtype: int32\n10\n    1열  2열  3열  4열  5열\n2행  15  16  17  18  19\n3행  20  21  22  23  24\n    1열  2열  3열  4열  5열\n2행  15  16  17  18  19\n3행  20  21  22  23  24\n    1열  2열  3열  4열  5열\n2행  15  16  17  18  19\n3행  20  21  22  23  24\n"
     ]
    },
    {
     "output_type": "execute_result",
     "data": {
      "text/plain": [
       "    3열  4열\n",
       "3행  22  23\n",
       "4행  27  28\n",
       "5행  32  33"
      ],
      "text/html": "<div>\n<style scoped>\n    .dataframe tbody tr th:only-of-type {\n        vertical-align: middle;\n    }\n\n    .dataframe tbody tr th {\n        vertical-align: top;\n    }\n\n    .dataframe thead th {\n        text-align: right;\n    }\n</style>\n<table border=\"1\" class=\"dataframe\">\n  <thead>\n    <tr style=\"text-align: right;\">\n      <th></th>\n      <th>3열</th>\n      <th>4열</th>\n    </tr>\n  </thead>\n  <tbody>\n    <tr>\n      <th>3행</th>\n      <td>22</td>\n      <td>23</td>\n    </tr>\n    <tr>\n      <th>4행</th>\n      <td>27</td>\n      <td>28</td>\n    </tr>\n    <tr>\n      <th>5행</th>\n      <td>32</td>\n      <td>33</td>\n    </tr>\n  </tbody>\n</table>\n</div>"
     },
     "metadata": {},
     "execution_count": 29
    }
   ],
   "source": [
    "# 1행 인덱싱\n",
    "print(df.loc['1행'])\n",
    "\n",
    "# 1행 1열 인덱싱\n",
    "print(df.loc['1행', '1열'])\n",
    "\n",
    "# 2행부터 3행까지 슬라이스\n",
    "print(df.loc['2행':'3행'])\n",
    "\n",
    "# 2행부터 3행까지 슬라이스\n",
    "print(df['2행':'3행'])\n",
    "\n",
    "# 2행과 4행 슬라이스\n",
    "print(df.loc[['2행', '3행']])\n",
    "\n",
    "# 2행 중 짝수 값만 출력\n",
    "df.loc['2행', df.loc['2행'] % 2 == 0]\n",
    "\n",
    "# 1행 3열, 4열 인덱싱\n",
    "df.loc['1행', ['3열', '4열']]\n",
    "\n",
    "# 3행 4열 인덱싱\n",
    "df.iloc[2, 3]\n",
    "\n",
    "# 3행 4열, 5열 인덱싱\n",
    "df.iloc[2, 3:]\n",
    "\n",
    "# 3행,4행,5행, 3열, 4열 인덱싱\n",
    "df.iloc[2:, 2:4]"
   ]
  },
  {
   "source": [
    "## 연습문제 4.4.1\n",
    "타이타닉호 승객 데이터의 데이터 개수를 각 열마다 구해본다.\n"
   ],
   "cell_type": "markdown",
   "metadata": {}
  },
  {
   "cell_type": "code",
   "execution_count": 32,
   "metadata": {},
   "outputs": [
    {
     "output_type": "execute_result",
     "data": {
      "text/plain": [
       "survived       891\n",
       "pclass         891\n",
       "sex            891\n",
       "age            714\n",
       "sibsp          891\n",
       "parch          891\n",
       "fare           891\n",
       "embarked       889\n",
       "class          891\n",
       "who            891\n",
       "adult_male     891\n",
       "deck           203\n",
       "embark_town    889\n",
       "alive          891\n",
       "alone          891\n",
       "dtype: int64"
      ]
     },
     "metadata": {},
     "execution_count": 32
    }
   ],
   "source": [
    "import seaborn as sns\n",
    "titanic = sns.load_dataset(\"titanic\")\n",
    "\n",
    "# 각 열마다 데이터의 개수\n",
    "titanic.count()"
   ]
  },
  {
   "source": [
    "## 연습 문제 4.4.2\n",
    "sort_values 메서드를 사용하여 타이타닉호 승객에 대해 성별(sex) 인원수, 나이별(age) 인원수, 선실별(class) 인원수, 사망/생존(alive) 인원수를 구하라."
   ],
   "cell_type": "markdown",
   "metadata": {}
  },
  {
   "cell_type": "code",
   "execution_count": 50,
   "metadata": {},
   "outputs": [
    {
     "output_type": "stream",
     "name": "stdout",
     "text": [
      "male      577\nfemale    314\nName: sex, dtype: int64\nage  \n24.00    30\n22.00    27\n18.00    26\n30.00    25\n19.00    25\n         ..\n53.00     1\n55.50     1\n66.00     1\n70.50     1\n0.42      1\nLength: 88, dtype: int64\nclass \nThird     491\nFirst     216\nSecond    184\ndtype: int64\nalive\nno       549\nyes      342\ndtype: int64\n"
     ]
    }
   ],
   "source": [
    "import seaborn as sns\n",
    "titanic = sns.load_dataset(\"titanic\")\n",
    "\n",
    "# 성별 인원수\n",
    "print(titanic.iloc[:,2].value_counts())\n",
    "\n",
    "# 나이별 인원수\n",
    "print(titanic.loc[:, ['age']].value_counts())\n",
    "\n",
    "# 선실별 인원수\n",
    "print(titanic.loc[:, ['class']].value_counts())\n",
    "\n",
    "# 사망/생존 인원수\n",
    "print(titanic.loc[:, ['alive']].value_counts())"
   ]
  },
  {
   "source": [
    "## 연습 문제 4.4.3\n",
    "1. 타이타닉호 승객의 평균 나이를 구하라.\n",
    "2. 타이타닉호 승객 중 여성 승객의 평균 나이를 구하라.\n",
    "3. 타이타닉호 승객 중 1등실 선실의 여성 승객의 평균 나이를 구하라."
   ],
   "cell_type": "markdown",
   "metadata": {}
  },
  {
   "cell_type": "code",
   "execution_count": 71,
   "metadata": {},
   "outputs": [
    {
     "output_type": "stream",
     "name": "stdout",
     "text": [
      "age    29.699118\ndtype: float64\nage    27.915709\ndtype: float64\nage    34.611765\ndtype: float64\n"
     ]
    }
   ],
   "source": [
    "import seaborn as sns\n",
    "titanic = sns.load_dataset(\"titanic\")\n",
    "\n",
    "# 타이타닉호 승객의 평균나이\n",
    "print(titanic.loc[:, ['age']].mean())\n",
    "\n",
    "# 타이타닉호 승객 중 여성 승객의 평균나이\n",
    "# 여성 승객 데이터 추출\n",
    "titanic_female = titanic.loc[titanic['sex'] == 'female']\n",
    "# 여성 승객 평균 나이\n",
    "print(titanic_female.loc[:, ['age']].mean())\n",
    "\n",
    "# 타이타닉호 승객 중 1등실 선실의 여성 승객의 평균 나이\n",
    "# 여성 승객 중 1등실 선실 데이터 추출\n",
    "titanic_female_First = titanic_female.loc[titanic_female['class'] == 'First']\n",
    "# 1등실 여성 승객 평균나이\n",
    "print(titanic_female_First.loc[:, ['age']].mean())"
   ]
  },
  {
   "source": [
    "## 연습 문제 4.4.4\n",
    "타이타닉호의 승객에 대해 나이와 성별에 의한 카테고리 열인 category1 열을 만들어라. category1 카테고리는 다음과 같이 정의된다.\n",
    "\n",
    "조건 1. 20살이 넘으면 성별을 그대로 사용한다.\n",
    "\n",
    "조건 2. 20살 미만이면 성별에 관계없이 “child”라고 한다.\n"
   ],
   "cell_type": "markdown",
   "metadata": {}
  },
  {
   "cell_type": "code",
   "execution_count": 87,
   "metadata": {},
   "outputs": [
    {
     "output_type": "execute_result",
     "data": {
      "text/plain": [
       "     survived  pclass     sex   age  sibsp  parch     fare embarked   class  \\\n",
       "0           0       3    male  22.0      1      0   7.2500        S   Third   \n",
       "1           1       1  female  38.0      1      0  71.2833        C   First   \n",
       "2           1       3  female  26.0      0      0   7.9250        S   Third   \n",
       "3           1       1  female  35.0      1      0  53.1000        S   First   \n",
       "4           0       3    male  35.0      0      0   8.0500        S   Third   \n",
       "..        ...     ...     ...   ...    ...    ...      ...      ...     ...   \n",
       "886         0       2    male  27.0      0      0  13.0000        S  Second   \n",
       "887         1       1  female  19.0      0      0  30.0000        S   First   \n",
       "888         0       3  female   NaN      1      2  23.4500        S   Third   \n",
       "889         1       1    male  26.0      0      0  30.0000        C   First   \n",
       "890         0       3    male  32.0      0      0   7.7500        Q   Third   \n",
       "\n",
       "       who  adult_male deck  embark_town alive  alone category1  \n",
       "0      man        True  NaN  Southampton    no  False      male  \n",
       "1    woman       False    C    Cherbourg   yes  False    female  \n",
       "2    woman       False  NaN  Southampton   yes   True    female  \n",
       "3    woman       False    C  Southampton   yes  False    female  \n",
       "4      man        True  NaN  Southampton    no   True      male  \n",
       "..     ...         ...  ...          ...   ...    ...       ...  \n",
       "886    man        True  NaN  Southampton    no   True      male  \n",
       "887  woman       False    B  Southampton   yes   True     child  \n",
       "888  woman       False  NaN  Southampton    no  False     child  \n",
       "889    man        True    C    Cherbourg   yes   True      male  \n",
       "890    man        True  NaN   Queenstown    no   True      male  \n",
       "\n",
       "[891 rows x 16 columns]"
      ],
      "text/html": "<div>\n<style scoped>\n    .dataframe tbody tr th:only-of-type {\n        vertical-align: middle;\n    }\n\n    .dataframe tbody tr th {\n        vertical-align: top;\n    }\n\n    .dataframe thead th {\n        text-align: right;\n    }\n</style>\n<table border=\"1\" class=\"dataframe\">\n  <thead>\n    <tr style=\"text-align: right;\">\n      <th></th>\n      <th>survived</th>\n      <th>pclass</th>\n      <th>sex</th>\n      <th>age</th>\n      <th>sibsp</th>\n      <th>parch</th>\n      <th>fare</th>\n      <th>embarked</th>\n      <th>class</th>\n      <th>who</th>\n      <th>adult_male</th>\n      <th>deck</th>\n      <th>embark_town</th>\n      <th>alive</th>\n      <th>alone</th>\n      <th>category1</th>\n    </tr>\n  </thead>\n  <tbody>\n    <tr>\n      <th>0</th>\n      <td>0</td>\n      <td>3</td>\n      <td>male</td>\n      <td>22.0</td>\n      <td>1</td>\n      <td>0</td>\n      <td>7.2500</td>\n      <td>S</td>\n      <td>Third</td>\n      <td>man</td>\n      <td>True</td>\n      <td>NaN</td>\n      <td>Southampton</td>\n      <td>no</td>\n      <td>False</td>\n      <td>male</td>\n    </tr>\n    <tr>\n      <th>1</th>\n      <td>1</td>\n      <td>1</td>\n      <td>female</td>\n      <td>38.0</td>\n      <td>1</td>\n      <td>0</td>\n      <td>71.2833</td>\n      <td>C</td>\n      <td>First</td>\n      <td>woman</td>\n      <td>False</td>\n      <td>C</td>\n      <td>Cherbourg</td>\n      <td>yes</td>\n      <td>False</td>\n      <td>female</td>\n    </tr>\n    <tr>\n      <th>2</th>\n      <td>1</td>\n      <td>3</td>\n      <td>female</td>\n      <td>26.0</td>\n      <td>0</td>\n      <td>0</td>\n      <td>7.9250</td>\n      <td>S</td>\n      <td>Third</td>\n      <td>woman</td>\n      <td>False</td>\n      <td>NaN</td>\n      <td>Southampton</td>\n      <td>yes</td>\n      <td>True</td>\n      <td>female</td>\n    </tr>\n    <tr>\n      <th>3</th>\n      <td>1</td>\n      <td>1</td>\n      <td>female</td>\n      <td>35.0</td>\n      <td>1</td>\n      <td>0</td>\n      <td>53.1000</td>\n      <td>S</td>\n      <td>First</td>\n      <td>woman</td>\n      <td>False</td>\n      <td>C</td>\n      <td>Southampton</td>\n      <td>yes</td>\n      <td>False</td>\n      <td>female</td>\n    </tr>\n    <tr>\n      <th>4</th>\n      <td>0</td>\n      <td>3</td>\n      <td>male</td>\n      <td>35.0</td>\n      <td>0</td>\n      <td>0</td>\n      <td>8.0500</td>\n      <td>S</td>\n      <td>Third</td>\n      <td>man</td>\n      <td>True</td>\n      <td>NaN</td>\n      <td>Southampton</td>\n      <td>no</td>\n      <td>True</td>\n      <td>male</td>\n    </tr>\n    <tr>\n      <th>...</th>\n      <td>...</td>\n      <td>...</td>\n      <td>...</td>\n      <td>...</td>\n      <td>...</td>\n      <td>...</td>\n      <td>...</td>\n      <td>...</td>\n      <td>...</td>\n      <td>...</td>\n      <td>...</td>\n      <td>...</td>\n      <td>...</td>\n      <td>...</td>\n      <td>...</td>\n      <td>...</td>\n    </tr>\n    <tr>\n      <th>886</th>\n      <td>0</td>\n      <td>2</td>\n      <td>male</td>\n      <td>27.0</td>\n      <td>0</td>\n      <td>0</td>\n      <td>13.0000</td>\n      <td>S</td>\n      <td>Second</td>\n      <td>man</td>\n      <td>True</td>\n      <td>NaN</td>\n      <td>Southampton</td>\n      <td>no</td>\n      <td>True</td>\n      <td>male</td>\n    </tr>\n    <tr>\n      <th>887</th>\n      <td>1</td>\n      <td>1</td>\n      <td>female</td>\n      <td>19.0</td>\n      <td>0</td>\n      <td>0</td>\n      <td>30.0000</td>\n      <td>S</td>\n      <td>First</td>\n      <td>woman</td>\n      <td>False</td>\n      <td>B</td>\n      <td>Southampton</td>\n      <td>yes</td>\n      <td>True</td>\n      <td>child</td>\n    </tr>\n    <tr>\n      <th>888</th>\n      <td>0</td>\n      <td>3</td>\n      <td>female</td>\n      <td>NaN</td>\n      <td>1</td>\n      <td>2</td>\n      <td>23.4500</td>\n      <td>S</td>\n      <td>Third</td>\n      <td>woman</td>\n      <td>False</td>\n      <td>NaN</td>\n      <td>Southampton</td>\n      <td>no</td>\n      <td>False</td>\n      <td>child</td>\n    </tr>\n    <tr>\n      <th>889</th>\n      <td>1</td>\n      <td>1</td>\n      <td>male</td>\n      <td>26.0</td>\n      <td>0</td>\n      <td>0</td>\n      <td>30.0000</td>\n      <td>C</td>\n      <td>First</td>\n      <td>man</td>\n      <td>True</td>\n      <td>C</td>\n      <td>Cherbourg</td>\n      <td>yes</td>\n      <td>True</td>\n      <td>male</td>\n    </tr>\n    <tr>\n      <th>890</th>\n      <td>0</td>\n      <td>3</td>\n      <td>male</td>\n      <td>32.0</td>\n      <td>0</td>\n      <td>0</td>\n      <td>7.7500</td>\n      <td>Q</td>\n      <td>Third</td>\n      <td>man</td>\n      <td>True</td>\n      <td>NaN</td>\n      <td>Queenstown</td>\n      <td>no</td>\n      <td>True</td>\n      <td>male</td>\n    </tr>\n  </tbody>\n</table>\n<p>891 rows × 16 columns</p>\n</div>"
     },
     "metadata": {},
     "execution_count": 87
    }
   ],
   "source": [
    "import seaborn as sns\n",
    "titanic = sns.load_dataset(\"titanic\")\n",
    "\n",
    "# 각 행마다 조건을 대입하여 child나 원래 성별이 나오도록 한다. 시리즈가 반환된다.\n",
    "category1 = titanic.apply(lambda x : x['sex'] if x['age'] > 20 else 'child', axis = 1)\n",
    "# category1 열 추가\n",
    "titanic['category1'] = category1\n",
    "\n",
    "titanic"
   ]
  },
  {
   "source": [
    "## 연습 문제 4.4.5\n",
    "타이타닉호의 승객 중 나이를 명시하지 않은 고객은 나이를 명시한 고객의 평균 나이 값이 되도록 titanic 데이터 프레임을 고쳐라"
   ],
   "cell_type": "markdown",
   "metadata": {}
  },
  {
   "cell_type": "code",
   "execution_count": 124,
   "metadata": {},
   "outputs": [],
   "source": [
    "import seaborn as sns\r\n",
    "titanic = sns.load_dataset(\"titanic\")\r\n",
    "\r\n",
    "# 나이 중 NaN인 값을 나이 평균 값으로 바꾼 데이터 프레임 저장\r\n",
    "titanic_age = titanic.loc[:,['age']].fillna(titanic['age'].mean())\r\n",
    "\r\n",
    "# age 행을 titanic_age프레임의 age 행으로 치환\r\n",
    "titanic['age'] = titanic_age['age']\r\n",
    " "
   ]
  },
  {
   "source": [
    "## 연습 문제 4.4.6\n",
    "타이타닉호의 승객에 대해 나이와 성별에 의한 카테고리 열인 category2 열을 만들어라. category2 카테고리는 다음과 같이 정의된다.\n",
    "\n",
    "1. 성별을 나타내는 문자열 male 또는 female로 시작한다.\n",
    "2. 성별을 나타내는 문자열 뒤에 나이를 나타내는 문자열이 온다.\n",
    "\n",
    "예를 들어 27살 남성은 male27 값이 된다.\n",
    "\n"
   ],
   "cell_type": "markdown",
   "metadata": {}
  },
  {
   "cell_type": "code",
   "execution_count": 136,
   "metadata": {},
   "outputs": [
    {
     "output_type": "execute_result",
     "data": {
      "text/plain": [
       "     survived  pclass         sex   age  sibsp  parch     fare embarked  \\\n",
       "0           0       3    male22.0  22.0      1      0   7.2500        S   \n",
       "1           1       1  female38.0  38.0      1      0  71.2833        C   \n",
       "2           1       3  female26.0  26.0      0      0   7.9250        S   \n",
       "3           1       1  female35.0  35.0      1      0  53.1000        S   \n",
       "4           0       3    male35.0  35.0      0      0   8.0500        S   \n",
       "..        ...     ...         ...   ...    ...    ...      ...      ...   \n",
       "886         0       2    male27.0  27.0      0      0  13.0000        S   \n",
       "887         1       1  female19.0  19.0      0      0  30.0000        S   \n",
       "888         0       3   femalenan   NaN      1      2  23.4500        S   \n",
       "889         1       1    male26.0  26.0      0      0  30.0000        C   \n",
       "890         0       3    male32.0  32.0      0      0   7.7500        Q   \n",
       "\n",
       "      class    who  adult_male deck  embark_town alive  alone   category2  \n",
       "0     Third    man        True  NaN  Southampton    no  False    male22.0  \n",
       "1     First  woman       False    C    Cherbourg   yes  False  female38.0  \n",
       "2     Third  woman       False  NaN  Southampton   yes   True  female26.0  \n",
       "3     First  woman       False    C  Southampton   yes  False  female35.0  \n",
       "4     Third    man        True  NaN  Southampton    no   True    male35.0  \n",
       "..      ...    ...         ...  ...          ...   ...    ...         ...  \n",
       "886  Second    man        True  NaN  Southampton    no   True    male27.0  \n",
       "887   First  woman       False    B  Southampton   yes   True  female19.0  \n",
       "888   Third  woman       False  NaN  Southampton    no  False   femalenan  \n",
       "889   First    man        True    C    Cherbourg   yes   True    male26.0  \n",
       "890   Third    man        True  NaN   Queenstown    no   True    male32.0  \n",
       "\n",
       "[891 rows x 16 columns]"
      ],
      "text/html": "<div>\n<style scoped>\n    .dataframe tbody tr th:only-of-type {\n        vertical-align: middle;\n    }\n\n    .dataframe tbody tr th {\n        vertical-align: top;\n    }\n\n    .dataframe thead th {\n        text-align: right;\n    }\n</style>\n<table border=\"1\" class=\"dataframe\">\n  <thead>\n    <tr style=\"text-align: right;\">\n      <th></th>\n      <th>survived</th>\n      <th>pclass</th>\n      <th>sex</th>\n      <th>age</th>\n      <th>sibsp</th>\n      <th>parch</th>\n      <th>fare</th>\n      <th>embarked</th>\n      <th>class</th>\n      <th>who</th>\n      <th>adult_male</th>\n      <th>deck</th>\n      <th>embark_town</th>\n      <th>alive</th>\n      <th>alone</th>\n      <th>category2</th>\n    </tr>\n  </thead>\n  <tbody>\n    <tr>\n      <th>0</th>\n      <td>0</td>\n      <td>3</td>\n      <td>male22.0</td>\n      <td>22.0</td>\n      <td>1</td>\n      <td>0</td>\n      <td>7.2500</td>\n      <td>S</td>\n      <td>Third</td>\n      <td>man</td>\n      <td>True</td>\n      <td>NaN</td>\n      <td>Southampton</td>\n      <td>no</td>\n      <td>False</td>\n      <td>male22.0</td>\n    </tr>\n    <tr>\n      <th>1</th>\n      <td>1</td>\n      <td>1</td>\n      <td>female38.0</td>\n      <td>38.0</td>\n      <td>1</td>\n      <td>0</td>\n      <td>71.2833</td>\n      <td>C</td>\n      <td>First</td>\n      <td>woman</td>\n      <td>False</td>\n      <td>C</td>\n      <td>Cherbourg</td>\n      <td>yes</td>\n      <td>False</td>\n      <td>female38.0</td>\n    </tr>\n    <tr>\n      <th>2</th>\n      <td>1</td>\n      <td>3</td>\n      <td>female26.0</td>\n      <td>26.0</td>\n      <td>0</td>\n      <td>0</td>\n      <td>7.9250</td>\n      <td>S</td>\n      <td>Third</td>\n      <td>woman</td>\n      <td>False</td>\n      <td>NaN</td>\n      <td>Southampton</td>\n      <td>yes</td>\n      <td>True</td>\n      <td>female26.0</td>\n    </tr>\n    <tr>\n      <th>3</th>\n      <td>1</td>\n      <td>1</td>\n      <td>female35.0</td>\n      <td>35.0</td>\n      <td>1</td>\n      <td>0</td>\n      <td>53.1000</td>\n      <td>S</td>\n      <td>First</td>\n      <td>woman</td>\n      <td>False</td>\n      <td>C</td>\n      <td>Southampton</td>\n      <td>yes</td>\n      <td>False</td>\n      <td>female35.0</td>\n    </tr>\n    <tr>\n      <th>4</th>\n      <td>0</td>\n      <td>3</td>\n      <td>male35.0</td>\n      <td>35.0</td>\n      <td>0</td>\n      <td>0</td>\n      <td>8.0500</td>\n      <td>S</td>\n      <td>Third</td>\n      <td>man</td>\n      <td>True</td>\n      <td>NaN</td>\n      <td>Southampton</td>\n      <td>no</td>\n      <td>True</td>\n      <td>male35.0</td>\n    </tr>\n    <tr>\n      <th>...</th>\n      <td>...</td>\n      <td>...</td>\n      <td>...</td>\n      <td>...</td>\n      <td>...</td>\n      <td>...</td>\n      <td>...</td>\n      <td>...</td>\n      <td>...</td>\n      <td>...</td>\n      <td>...</td>\n      <td>...</td>\n      <td>...</td>\n      <td>...</td>\n      <td>...</td>\n      <td>...</td>\n    </tr>\n    <tr>\n      <th>886</th>\n      <td>0</td>\n      <td>2</td>\n      <td>male27.0</td>\n      <td>27.0</td>\n      <td>0</td>\n      <td>0</td>\n      <td>13.0000</td>\n      <td>S</td>\n      <td>Second</td>\n      <td>man</td>\n      <td>True</td>\n      <td>NaN</td>\n      <td>Southampton</td>\n      <td>no</td>\n      <td>True</td>\n      <td>male27.0</td>\n    </tr>\n    <tr>\n      <th>887</th>\n      <td>1</td>\n      <td>1</td>\n      <td>female19.0</td>\n      <td>19.0</td>\n      <td>0</td>\n      <td>0</td>\n      <td>30.0000</td>\n      <td>S</td>\n      <td>First</td>\n      <td>woman</td>\n      <td>False</td>\n      <td>B</td>\n      <td>Southampton</td>\n      <td>yes</td>\n      <td>True</td>\n      <td>female19.0</td>\n    </tr>\n    <tr>\n      <th>888</th>\n      <td>0</td>\n      <td>3</td>\n      <td>femalenan</td>\n      <td>NaN</td>\n      <td>1</td>\n      <td>2</td>\n      <td>23.4500</td>\n      <td>S</td>\n      <td>Third</td>\n      <td>woman</td>\n      <td>False</td>\n      <td>NaN</td>\n      <td>Southampton</td>\n      <td>no</td>\n      <td>False</td>\n      <td>femalenan</td>\n    </tr>\n    <tr>\n      <th>889</th>\n      <td>1</td>\n      <td>1</td>\n      <td>male26.0</td>\n      <td>26.0</td>\n      <td>0</td>\n      <td>0</td>\n      <td>30.0000</td>\n      <td>C</td>\n      <td>First</td>\n      <td>man</td>\n      <td>True</td>\n      <td>C</td>\n      <td>Cherbourg</td>\n      <td>yes</td>\n      <td>True</td>\n      <td>male26.0</td>\n    </tr>\n    <tr>\n      <th>890</th>\n      <td>0</td>\n      <td>3</td>\n      <td>male32.0</td>\n      <td>32.0</td>\n      <td>0</td>\n      <td>0</td>\n      <td>7.7500</td>\n      <td>Q</td>\n      <td>Third</td>\n      <td>man</td>\n      <td>True</td>\n      <td>NaN</td>\n      <td>Queenstown</td>\n      <td>no</td>\n      <td>True</td>\n      <td>male32.0</td>\n    </tr>\n  </tbody>\n</table>\n<p>891 rows × 16 columns</p>\n</div>"
     },
     "metadata": {},
     "execution_count": 136
    }
   ],
   "source": [
    "import seaborn as sns\n",
    "titanic = sns.load_dataset(\"titanic\")\n",
    "\n",
    "# category2 시리즈를 성별로 설정\n",
    "category2 = titanic['sex']\n",
    "\n",
    "# 나이를 문자열로 바꾼 후 category2 시리즈에 이어 붙여 재설정\n",
    "category2 += titanic['age'].astype(str)\n",
    "\n",
    "# category2 열 추가\n",
    "titanic['category2'] = category2"
   ]
  },
  {
   "source": [
    "## 연습 문제 4.4.7\n",
    "타이타닉호 승객을 ‘미성년자’, ‘청년’, ‘중년’, ‘장년’, ‘노년’ 나이 그룹으로 나눈다.\n",
    "\n",
    "bins = [1, 20, 30, 50, 70, 100]\n",
    "labels = [\"미성년자\", \"청년\", \"중년\", \"장년\", \"노년\"]\n",
    "\n",
    "그리고 각 나이 그룹의 승객 비율을 구한다. 비율의 전체 합은 1이 되어야 한다."
   ],
   "cell_type": "markdown",
   "metadata": {}
  },
  {
   "cell_type": "code",
   "execution_count": 158,
   "metadata": {},
   "outputs": [
    {
     "output_type": "execute_result",
     "data": {
      "text/plain": [
       "      age     나이 비율\n",
       "중년    241  0.344286\n",
       "청년    230  0.328571\n",
       "미성년자  165  0.235714\n",
       "장년     59  0.084286\n",
       "노년      5  0.007143"
      ],
      "text/html": "<div>\n<style scoped>\n    .dataframe tbody tr th:only-of-type {\n        vertical-align: middle;\n    }\n\n    .dataframe tbody tr th {\n        vertical-align: top;\n    }\n\n    .dataframe thead th {\n        text-align: right;\n    }\n</style>\n<table border=\"1\" class=\"dataframe\">\n  <thead>\n    <tr style=\"text-align: right;\">\n      <th></th>\n      <th>age</th>\n      <th>나이 비율</th>\n    </tr>\n  </thead>\n  <tbody>\n    <tr>\n      <th>중년</th>\n      <td>241</td>\n      <td>0.344286</td>\n    </tr>\n    <tr>\n      <th>청년</th>\n      <td>230</td>\n      <td>0.328571</td>\n    </tr>\n    <tr>\n      <th>미성년자</th>\n      <td>165</td>\n      <td>0.235714</td>\n    </tr>\n    <tr>\n      <th>장년</th>\n      <td>59</td>\n      <td>0.084286</td>\n    </tr>\n    <tr>\n      <th>노년</th>\n      <td>5</td>\n      <td>0.007143</td>\n    </tr>\n  </tbody>\n</table>\n</div>"
     },
     "metadata": {},
     "execution_count": 158
    }
   ],
   "source": [
    "import seaborn as sns\n",
    "titanic = sns.load_dataset(\"titanic\")\n",
    "\n",
    "bins = [1, 20, 30, 50, 70, 100]\n",
    "labels = [\"미성년자\", \"청년\", \"중년\", \"장년\", \"노년\"]\n",
    "\n",
    "# age를 bins을 기준으로 나누어 cats 시리즈에 저장\n",
    "cats = pd.cut(titanic['age'], bins, labels = labels)\n",
    "# cats를 데이터프레임으로 저장\n",
    "df = pd.DataFrame(cats.value_counts())\n",
    "\n",
    "# 나이 비율을 계산한 시리즈 저장\n",
    "age_percent = df.apply(lambda x : x / cats.count(), axis = 1)\n",
    "\n",
    "# 데이터 프레임에 나이 비율 열 추가\n",
    "df['나이 비율'] = age_percent \n"
   ]
  },
  {
   "source": [
    "## 연습문제 4.4.8\n",
    "\n",
    "타이타닉호의 승객에 대해 나이와 성별에 의한 카테고리 열인 category3 열을 만들어라. category3 카테고리는 다음과 같이 정의된다.\n",
    "\n",
    "1. 20살 미만이면 성별에 관계없이 “미성년자”라고 한다.\n",
    "\n",
    "2. 20살 이상이면 나이에 따라 “청년”, “중년”, “장년”, “노년”을 구분하고 그 뒤에 성별을 나타내는 “남성”, “여성”을 붙인다."
   ],
   "cell_type": "markdown",
   "metadata": {}
  },
  {
   "cell_type": "code",
   "execution_count": 208,
   "metadata": {},
   "outputs": [
    {
     "output_type": "execute_result",
     "data": {
      "text/plain": [
       "     survived  pclass     sex   age  sibsp  parch     fare embarked   class  \\\n",
       "0           0       3    male  22.0      1      0   7.2500        S   Third   \n",
       "1           1       1  female  38.0      1      0  71.2833        C   First   \n",
       "2           1       3  female  26.0      0      0   7.9250        S   Third   \n",
       "3           1       1  female  35.0      1      0  53.1000        S   First   \n",
       "4           0       3    male  35.0      0      0   8.0500        S   Third   \n",
       "..        ...     ...     ...   ...    ...    ...      ...      ...     ...   \n",
       "886         0       2    male  27.0      0      0  13.0000        S  Second   \n",
       "887         1       1  female  19.0      0      0  30.0000        S   First   \n",
       "888         0       3  female   NaN      1      2  23.4500        S   Third   \n",
       "889         1       1    male  26.0      0      0  30.0000        C   First   \n",
       "890         0       3    male  32.0      0      0   7.7500        Q   Third   \n",
       "\n",
       "       who  adult_male deck  embark_town alive  alone   나이대 한글성별 category3  \n",
       "0      man        True  NaN  Southampton    no  False    청년   남성      청년남성  \n",
       "1    woman       False    C    Cherbourg   yes  False    중년   여성      중년여성  \n",
       "2    woman       False  NaN  Southampton   yes   True    청년   여성      청년여성  \n",
       "3    woman       False    C  Southampton   yes  False    중년   여성      중년여성  \n",
       "4      man        True  NaN  Southampton    no   True    중년   남성      중년남성  \n",
       "..     ...         ...  ...          ...   ...    ...   ...  ...       ...  \n",
       "886    man        True  NaN  Southampton    no   True    청년   남성      청년남성  \n",
       "887  woman       False    B  Southampton   yes   True  미성년자   여성      미성년자  \n",
       "888  woman       False  NaN  Southampton    no  False   NaN   여성      미성년자  \n",
       "889    man        True    C    Cherbourg   yes   True    청년   남성      청년남성  \n",
       "890    man        True  NaN   Queenstown    no   True    중년   남성      중년남성  \n",
       "\n",
       "[891 rows x 18 columns]"
      ],
      "text/html": "<div>\n<style scoped>\n    .dataframe tbody tr th:only-of-type {\n        vertical-align: middle;\n    }\n\n    .dataframe tbody tr th {\n        vertical-align: top;\n    }\n\n    .dataframe thead th {\n        text-align: right;\n    }\n</style>\n<table border=\"1\" class=\"dataframe\">\n  <thead>\n    <tr style=\"text-align: right;\">\n      <th></th>\n      <th>survived</th>\n      <th>pclass</th>\n      <th>sex</th>\n      <th>age</th>\n      <th>sibsp</th>\n      <th>parch</th>\n      <th>fare</th>\n      <th>embarked</th>\n      <th>class</th>\n      <th>who</th>\n      <th>adult_male</th>\n      <th>deck</th>\n      <th>embark_town</th>\n      <th>alive</th>\n      <th>alone</th>\n      <th>나이대</th>\n      <th>한글성별</th>\n      <th>category3</th>\n    </tr>\n  </thead>\n  <tbody>\n    <tr>\n      <th>0</th>\n      <td>0</td>\n      <td>3</td>\n      <td>male</td>\n      <td>22.0</td>\n      <td>1</td>\n      <td>0</td>\n      <td>7.2500</td>\n      <td>S</td>\n      <td>Third</td>\n      <td>man</td>\n      <td>True</td>\n      <td>NaN</td>\n      <td>Southampton</td>\n      <td>no</td>\n      <td>False</td>\n      <td>청년</td>\n      <td>남성</td>\n      <td>청년남성</td>\n    </tr>\n    <tr>\n      <th>1</th>\n      <td>1</td>\n      <td>1</td>\n      <td>female</td>\n      <td>38.0</td>\n      <td>1</td>\n      <td>0</td>\n      <td>71.2833</td>\n      <td>C</td>\n      <td>First</td>\n      <td>woman</td>\n      <td>False</td>\n      <td>C</td>\n      <td>Cherbourg</td>\n      <td>yes</td>\n      <td>False</td>\n      <td>중년</td>\n      <td>여성</td>\n      <td>중년여성</td>\n    </tr>\n    <tr>\n      <th>2</th>\n      <td>1</td>\n      <td>3</td>\n      <td>female</td>\n      <td>26.0</td>\n      <td>0</td>\n      <td>0</td>\n      <td>7.9250</td>\n      <td>S</td>\n      <td>Third</td>\n      <td>woman</td>\n      <td>False</td>\n      <td>NaN</td>\n      <td>Southampton</td>\n      <td>yes</td>\n      <td>True</td>\n      <td>청년</td>\n      <td>여성</td>\n      <td>청년여성</td>\n    </tr>\n    <tr>\n      <th>3</th>\n      <td>1</td>\n      <td>1</td>\n      <td>female</td>\n      <td>35.0</td>\n      <td>1</td>\n      <td>0</td>\n      <td>53.1000</td>\n      <td>S</td>\n      <td>First</td>\n      <td>woman</td>\n      <td>False</td>\n      <td>C</td>\n      <td>Southampton</td>\n      <td>yes</td>\n      <td>False</td>\n      <td>중년</td>\n      <td>여성</td>\n      <td>중년여성</td>\n    </tr>\n    <tr>\n      <th>4</th>\n      <td>0</td>\n      <td>3</td>\n      <td>male</td>\n      <td>35.0</td>\n      <td>0</td>\n      <td>0</td>\n      <td>8.0500</td>\n      <td>S</td>\n      <td>Third</td>\n      <td>man</td>\n      <td>True</td>\n      <td>NaN</td>\n      <td>Southampton</td>\n      <td>no</td>\n      <td>True</td>\n      <td>중년</td>\n      <td>남성</td>\n      <td>중년남성</td>\n    </tr>\n    <tr>\n      <th>...</th>\n      <td>...</td>\n      <td>...</td>\n      <td>...</td>\n      <td>...</td>\n      <td>...</td>\n      <td>...</td>\n      <td>...</td>\n      <td>...</td>\n      <td>...</td>\n      <td>...</td>\n      <td>...</td>\n      <td>...</td>\n      <td>...</td>\n      <td>...</td>\n      <td>...</td>\n      <td>...</td>\n      <td>...</td>\n      <td>...</td>\n    </tr>\n    <tr>\n      <th>886</th>\n      <td>0</td>\n      <td>2</td>\n      <td>male</td>\n      <td>27.0</td>\n      <td>0</td>\n      <td>0</td>\n      <td>13.0000</td>\n      <td>S</td>\n      <td>Second</td>\n      <td>man</td>\n      <td>True</td>\n      <td>NaN</td>\n      <td>Southampton</td>\n      <td>no</td>\n      <td>True</td>\n      <td>청년</td>\n      <td>남성</td>\n      <td>청년남성</td>\n    </tr>\n    <tr>\n      <th>887</th>\n      <td>1</td>\n      <td>1</td>\n      <td>female</td>\n      <td>19.0</td>\n      <td>0</td>\n      <td>0</td>\n      <td>30.0000</td>\n      <td>S</td>\n      <td>First</td>\n      <td>woman</td>\n      <td>False</td>\n      <td>B</td>\n      <td>Southampton</td>\n      <td>yes</td>\n      <td>True</td>\n      <td>미성년자</td>\n      <td>여성</td>\n      <td>미성년자</td>\n    </tr>\n    <tr>\n      <th>888</th>\n      <td>0</td>\n      <td>3</td>\n      <td>female</td>\n      <td>NaN</td>\n      <td>1</td>\n      <td>2</td>\n      <td>23.4500</td>\n      <td>S</td>\n      <td>Third</td>\n      <td>woman</td>\n      <td>False</td>\n      <td>NaN</td>\n      <td>Southampton</td>\n      <td>no</td>\n      <td>False</td>\n      <td>NaN</td>\n      <td>여성</td>\n      <td>미성년자</td>\n    </tr>\n    <tr>\n      <th>889</th>\n      <td>1</td>\n      <td>1</td>\n      <td>male</td>\n      <td>26.0</td>\n      <td>0</td>\n      <td>0</td>\n      <td>30.0000</td>\n      <td>C</td>\n      <td>First</td>\n      <td>man</td>\n      <td>True</td>\n      <td>C</td>\n      <td>Cherbourg</td>\n      <td>yes</td>\n      <td>True</td>\n      <td>청년</td>\n      <td>남성</td>\n      <td>청년남성</td>\n    </tr>\n    <tr>\n      <th>890</th>\n      <td>0</td>\n      <td>3</td>\n      <td>male</td>\n      <td>32.0</td>\n      <td>0</td>\n      <td>0</td>\n      <td>7.7500</td>\n      <td>Q</td>\n      <td>Third</td>\n      <td>man</td>\n      <td>True</td>\n      <td>NaN</td>\n      <td>Queenstown</td>\n      <td>no</td>\n      <td>True</td>\n      <td>중년</td>\n      <td>남성</td>\n      <td>중년남성</td>\n    </tr>\n  </tbody>\n</table>\n<p>891 rows × 18 columns</p>\n</div>"
     },
     "metadata": {},
     "execution_count": 208
    }
   ],
   "source": [
    "import seaborn as sns\n",
    "titanic = sns.load_dataset(\"titanic\")\n",
    "\n",
    "bins = [1, 20, 30, 50, 70, 100]\n",
    "labels = [\"미성년자\", \"청년\", \"중년\", \"장년\", \"노년\"]\n",
    "\n",
    "# age를 bins을 기준으로 나누어 cats 시리즈에 저장\n",
    "cats = pd.cut(titanic['age'], bins, labels = labels)\n",
    "# 나이대 열 추가\n",
    "titanic['나이대'] = cats\n",
    "\n",
    "# sex 값을 기준으로 한글 성별 시리즈 저장\n",
    "sex_kor = titanic.apply(lambda x : '남성' if x['sex'] == 'male'  else '여성', axis = 1)\n",
    "# 한글성별 열 추가\n",
    "titanic['한글성별'] = sex_kor\n",
    "\n",
    "# 20을 기준으로 시리즈 저장\n",
    "category3 = titanic.apply(lambda x : x['나이대'] + x['한글성별'] if x['age'] >= 20 else '미성년자', axis = 1)\n",
    "# category3 열 추가\n",
    "titanic['category3'] = category3\n"
   ]
  }
 ],
 "metadata": {
  "kernelspec": {
   "display_name": "Python 3",
   "language": "python",
   "name": "python3"
  },
  "language_info": {
   "codemirror_mode": {
    "name": "ipython",
    "version": 3
   },
   "file_extension": ".py",
   "mimetype": "text/x-python",
   "name": "python",
   "nbconvert_exporter": "python",
   "pygments_lexer": "ipython3",
   "version": "3.7.9-final"
  }
 },
 "nbformat": 4,
 "nbformat_minor": 4
}