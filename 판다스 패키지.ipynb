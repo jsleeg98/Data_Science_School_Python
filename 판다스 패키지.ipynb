{
 "cells": [
  {
   "cell_type": "markdown",
   "metadata": {},
   "source": [
    "## 시리즈 인덱싱"
   ]
  },
  {
   "cell_type": "code",
   "execution_count": 96,
   "metadata": {},
   "outputs": [
    {
     "data": {
      "text/plain": [
       "서울    9904312\n",
       "부산    3448737\n",
       "dtype: int64"
      ]
     },
     "execution_count": 96,
     "metadata": {},
     "output_type": "execute_result"
    }
   ],
   "source": [
    "s = pd.Series([9904312, 3448737, 2890451, 2466052],\n",
    "              index=[\"서울\", \"부산\", \"인천\", \"대구\"])\n",
    "\n",
    "s[0] # 9904312\n",
    "s['서울'] #9904312\n",
    "\n",
    "# 다음은 비문이다.\n",
    "#s[0, 1]  \n",
    "\n",
    "# 인덱싱을 할 때는 : 를 이용하거나 [[]] 꼴로 해야한다. 아래 두 개는 결과가 같다.\n",
    "s[0:2] # 서울, 부산\n",
    "s[[0, 1]] #서울, 부산\n"
   ]
  },
  {
   "cell_type": "markdown",
   "metadata": {},
   "source": [
    "## 시리즈와 딕셔너리"
   ]
  },
  {
   "cell_type": "code",
   "execution_count": 98,
   "metadata": {},
   "outputs": [
    {
     "name": "stdout",
     "output_type": "stream",
     "text": [
      "서울 = 9904312\n",
      "부산 = 3448737\n",
      "인천 = 2890451\n",
      "대구 = 2466052\n"
     ]
    }
   ],
   "source": [
    "s = pd.Series([9904312, 3448737, 2890451, 2466052],\n",
    "              index=[\"서울\", \"부산\", \"인천\", \"대구\"])\n",
    "\n",
    "\"인천\" in s #True\n",
    "\n",
    "# .items() 메소드 사용가능\n",
    "for key, value in s.items():\n",
    "    print(\"%s = %d\"%(key, value))"
   ]
  },
  {
   "cell_type": "markdown",
   "metadata": {},
   "source": [
    "## 데이터 갱신, 추가, 삭제"
   ]
  },
  {
   "cell_type": "code",
   "execution_count": 103,
   "metadata": {},
   "outputs": [
    {
     "data": {
      "text/plain": [
       "서울    3456785\n",
       "인천    2890451\n",
       "대구    2466052\n",
       "대전    2489712\n",
       "dtype: int64"
      ]
     },
     "execution_count": 103,
     "metadata": {},
     "output_type": "execute_result"
    }
   ],
   "source": [
    "s = pd.Series([9904312, 3448737, 2890451, 2466052],\n",
    "              index=[\"서울\", \"부산\", \"인천\", \"대구\"])\n",
    "\n",
    "# 데이터 추가\n",
    "s[\"대전\"] = 2489712\n",
    "\n",
    "# 데이터 갱신\n",
    "s[\"서울\"] = 3456785\n",
    "\n",
    "# 데이터 삭제\n",
    "del s[\"부산\"]\n"
   ]
  },
  {
   "cell_type": "markdown",
   "metadata": {},
   "source": [
    "## 연습 문제 4.1.1\n",
    "\n",
    "(1) 임의로 두 개의 시리즈 객체를 만든다. 모두 문자열 인덱스를 가져야 하며 두 시리즈에 공통적으로 포함되지 않는 라벨이 있어야 한다.\n",
    "\n",
    "(2) 위에서 만든 두 시리즈 객체를 이용하여 사칙 연산을 한다.\n",
    "\n"
   ]
  },
  {
   "cell_type": "code",
   "execution_count": 18,
   "metadata": {},
   "outputs": [],
   "source": [
    "import pandas as pd\n",
    "\n",
    "# (1) 임의의 두 개의 시리즈 객체 만들기\n",
    "x = pd.Series([100, 98, 60, 70], index = [\"국어\", \"영어\", \"수학\", \"과학\"])\n",
    "y = pd.Series([98, 50, 84, 89], index = [\"국어\", \"영어\", \"수학\", \"사회\"])\n",
    "\n",
    "# (2) 두 시리즈 객체를 이용하여 사칙 연산을 한다.\n",
    "# 더하기\n",
    "plus = x + y\n",
    "\n",
    "# 삐기\n",
    "minus = x - y\n",
    "\n",
    "# 곱하기\n",
    "multi = x * y\n",
    "\n",
    "# 나누기\n",
    "div = x / y"
   ]
  },
  {
   "cell_type": "markdown",
   "metadata": {},
   "source": [
    "## 연습 문제 4.1.2\n",
    "\n",
    "다음 조건을 만족하는 임의의 데이터프레임을 하나 만든다.\n",
    "\n",
    "(1) 열의 갯수와 행의 갯수가 각각 5개 이상이어야 한다.\n",
    "\n",
    "(2) 열에는 정수, 문자열, 실수 자료형 데이터가 각각 1개 이상씩 포함되어 있어야 한다."
   ]
  },
  {
   "cell_type": "code",
   "execution_count": 22,
   "metadata": {},
   "outputs": [
    {
     "data": {
      "text/html": [
       "<div>\n",
       "<style scoped>\n",
       "    .dataframe tbody tr th:only-of-type {\n",
       "        vertical-align: middle;\n",
       "    }\n",
       "\n",
       "    .dataframe tbody tr th {\n",
       "        vertical-align: top;\n",
       "    }\n",
       "\n",
       "    .dataframe thead th {\n",
       "        text-align: right;\n",
       "    }\n",
       "</style>\n",
       "<table border=\"1\" class=\"dataframe\">\n",
       "  <thead>\n",
       "    <tr style=\"text-align: right;\">\n",
       "      <th></th>\n",
       "      <th>종목명</th>\n",
       "      <th>종가</th>\n",
       "      <th>등락률</th>\n",
       "      <th>PER</th>\n",
       "      <th>ROE</th>\n",
       "    </tr>\n",
       "  </thead>\n",
       "  <tbody>\n",
       "    <tr>\n",
       "      <th>005830</th>\n",
       "      <td>삼성전자</td>\n",
       "      <td>83900</td>\n",
       "      <td>1.08</td>\n",
       "      <td>22.91</td>\n",
       "      <td>8.69</td>\n",
       "    </tr>\n",
       "    <tr>\n",
       "      <th>000660</th>\n",
       "      <td>SK하이닉스</td>\n",
       "      <td>130500</td>\n",
       "      <td>3.57</td>\n",
       "      <td>33.11</td>\n",
       "      <td>4.25</td>\n",
       "    </tr>\n",
       "    <tr>\n",
       "      <th>051910</th>\n",
       "      <td>LG화학</td>\n",
       "      <td>893000</td>\n",
       "      <td>0.45</td>\n",
       "      <td>83.43</td>\n",
       "      <td>1.84</td>\n",
       "    </tr>\n",
       "    <tr>\n",
       "      <th>207940</th>\n",
       "      <td>삼성바이오로직스</td>\n",
       "      <td>832000</td>\n",
       "      <td>0.36</td>\n",
       "      <td>154.91</td>\n",
       "      <td>4.77</td>\n",
       "    </tr>\n",
       "    <tr>\n",
       "      <th>035420</th>\n",
       "      <td>NAVER</td>\n",
       "      <td>292500</td>\n",
       "      <td>-0.17</td>\n",
       "      <td>58.23</td>\n",
       "      <td>10.56</td>\n",
       "    </tr>\n",
       "  </tbody>\n",
       "</table>\n",
       "</div>"
      ],
      "text/plain": [
       "             종목명      종가   등락률     PER    ROE\n",
       "005830      삼성전자   83900  1.08   22.91   8.69\n",
       "000660    SK하이닉스  130500  3.57   33.11   4.25\n",
       "051910      LG화학  893000  0.45   83.43   1.84\n",
       "207940  삼성바이오로직스  832000  0.36  154.91   4.77\n",
       "035420     NAVER  292500 -0.17   58.23  10.56"
      ]
     },
     "execution_count": 22,
     "metadata": {},
     "output_type": "execute_result"
    }
   ],
   "source": [
    "import pandas as pd\n",
    "\n",
    "data = {\n",
    "    \"종가\" : [83900, 130500, 893000, 832000, 292500],\n",
    "    \"종목명\" : [\"삼성전자\", \"SK하이닉스\", \"LG화학\", \"삼성바이오로직스\", \"NAVER\"],\n",
    "    \"PER\" : [22.91, 33.11, 83.43, 154.91, 58.23],\n",
    "    \"ROE\" : [8.69, 4.25, 1.84, 4.77, 10.56],\n",
    "    \"등락률\" : [1.08, 3.57, 0.45, 0.36, -0.17]\n",
    "}\n",
    "columns = [\"종목명\", \"종가\", \"등락률\", \"PER\", \"ROE\"]\n",
    "index = [\"005830\", \"000660\", \"051910\", \"207940\", \"035420\"]\n",
    "\n",
    "df = pd.DataFrame(data, index = index, columns = columns)\n",
    "df"
   ]
  },
  {
   "cell_type": "markdown",
   "metadata": {},
   "source": [
    "## 다음 데이터프레임에서 지정하는 데이터를 뽑아내거나 처리하라.\n",
    "\n",
    "(1) 모든 학생의 수학 점수를 시리즈로 나타낸다.\n",
    "\n",
    "(2) 모든 학생의 국어와 영어 점수를 데이터 프레임으로 나타낸다.\n",
    "\n",
    "(3) 모든 학생의 각 과목 평균 점수를 새로운 열로 추가한다.\n",
    "\n",
    "(4) 방자의 영어 점수를 80점으로 수정하고 평균 점수도 다시 계산한다.\n",
    "\n",
    "(5) 춘향의 점수를 데이터프레임으로 나타낸다.\n",
    "\n",
    "(6) 향단의 점수를 시리즈로 나타낸다."
   ]
  },
  {
   "cell_type": "code",
   "execution_count": 82,
   "metadata": {},
   "outputs": [
    {
     "data": {
      "text/plain": [
       "국어            70.0\n",
       "영어            60.0\n",
       "수학            80.0\n",
       "각 과목 평균 점수    70.0\n",
       "Name: 향단, dtype: float64"
      ]
     },
     "execution_count": 82,
     "metadata": {},
     "output_type": "execute_result"
    }
   ],
   "source": [
    "import pandas as pd\n",
    "\n",
    "data = {\n",
    "    \"국어\": [80, 90, 70, 30],\n",
    "    \"영어\": [90, 70, 60, 40],\n",
    "    \"수학\": [90, 60, 80, 70],\n",
    "}\n",
    "columns = [\"국어\", \"영어\", \"수학\"]\n",
    "index = [\"춘향\", \"몽룡\", \"향단\", \"방자\"]\n",
    "df = pd.DataFrame(data, index=index, columns=columns)\n",
    "\n",
    "# (1) 모든 학생의 수학 점수를 시리즈로 나타낸다.\n",
    "series_m = df[\"수학\"]\n",
    "\n",
    "# (2) 모든 학생의 국어와 영어 점수를 데이터 프레임으로 나타낸다.\n",
    "df_kor_eng = df[[\"국어\", \"영어\"]]\n",
    "\n",
    "# (3) 모든 학생의 각 과목 평균 점수를 새로운 열로 추가한다.\n",
    "df[\"각 과목 평균 점수\"] = ((df[\"국어\"] + df[\"영어\"] + df[\"수학\"]) / 3).round(2)\n",
    "\n",
    "# (4) 방자의 영어 점수를 80점으로 수정하고 평균 점수도 다시 계산한다.\n",
    "# 데이터의 갱신은 열 단위로 할 수 있다.\n",
    "df['영어'] = [90, 70, 60, 80]\n",
    "df[\"각 과목 평균 점수\"] = ((df[\"국어\"] + df[\"영어\"] + df[\"수학\"]) / 3).round(2)\n",
    "\n",
    "# 아래와 같이 개별적으로 바꾸는 것은 SettingWithCopyWarning 오류 메시지가 뜬다.\n",
    "# df['영어']['방자'] = 80 \n",
    "\n",
    "\n",
    "# (5) 춘향의 점수를 데이터프레임으로 나타낸다.\n",
    "# 행 데이터는 정수 슬라이싱으로 할 수 있다.\n",
    "df[:1] \n",
    "\n",
    "# (6) 향단의 점수를 시리즈로 나타낸다.\n",
    "# 시리즈로 추출하는 것은 열 인덱싱을 했을 때 가능하기 때문에 .T로 전치처리를 해주어야 한다.\n",
    "df.T['향단']"
   ]
  },
  {
   "cell_type": "code",
   "execution_count": 90,
   "metadata": {},
   "outputs": [
    {
     "data": {
      "text/plain": [
       "부산    3448737\n",
       "인천    2890451\n",
       "dtype: int64"
      ]
     },
     "execution_count": 90,
     "metadata": {},
     "output_type": "execute_result"
    }
   ],
   "source": [
    "s = pd.Series([9904312, 3448737, 2890451, 2466052],\n",
    "              index=[\"서울\", \"부산\", \"인천\", \"대구\"])\n",
    "\n",
    "s[1:3]"
   ]
  }
 ],
 "metadata": {
  "kernelspec": {
   "display_name": "Python 3",
   "language": "python",
   "name": "python3"
  },
  "language_info": {
   "codemirror_mode": {
    "name": "ipython",
    "version": 3
   },
   "file_extension": ".py",
   "mimetype": "text/x-python",
   "name": "python",
   "nbconvert_exporter": "python",
   "pygments_lexer": "ipython3",
   "version": "3.7.9"
  }
 },
 "nbformat": 4,
 "nbformat_minor": 4
}
